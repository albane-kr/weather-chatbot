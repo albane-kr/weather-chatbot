{
 "cells": [
  {
   "cell_type": "markdown",
   "id": "ad53d40f",
   "metadata": {},
   "source": [
    "# Training the CNN for temperature prediction\n"
   ]
  },
  {
   "cell_type": "markdown",
   "id": "107ba693",
   "metadata": {},
   "source": []
  },
  {
   "cell_type": "code",
   "execution_count": 1,
   "id": "f1263e7d",
   "metadata": {},
   "outputs": [],
   "source": [
    "\n",
    "import os\n",
    "from CNN import SequenceCNN\n",
    "from torch.utils.data import DataLoader as TorchDataLoader"
   ]
  },
  {
   "cell_type": "code",
   "execution_count": 2,
   "id": "b9f14416",
   "metadata": {},
   "outputs": [],
   "source": [
    "import torch\n",
    "from torch.optim import lr_scheduler\n",
    "\n",
    "import torch.optim as optim\n",
    "import torch.nn as nn\n",
    "from PrecipitationDataset import PrecipitationDataset\n",
    "from functools import partial\n",
    "import os\n",
    "import tempfile\n",
    "from pathlib import Path\n",
    "import torch\n",
    "import torch.nn as nn\n",
    "import torch.nn.functional as F\n",
    "import torch.optim as optim\n",
    "from torch.utils.data import random_split\n",
    "import torchvision\n",
    "import torchvision.transforms as transforms"
   ]
  },
  {
   "cell_type": "code",
   "execution_count": 3,
   "id": "479daad3",
   "metadata": {},
   "outputs": [
    {
     "name": "stderr",
     "output_type": "stream",
     "text": [
      "100%|██████████| 562/562 [00:08<00:00, 65.07it/s] \n"
     ]
    }
   ],
   "source": [
    "dataset = PrecipitationDataset('data_prcp_summed')"
   ]
  },
  {
   "cell_type": "code",
   "execution_count": 4,
   "id": "1f502d3d",
   "metadata": {},
   "outputs": [
    {
     "name": "stderr",
     "output_type": "stream",
     "text": [
      "c:\\Users\\henri\\AppData\\Local\\Programs\\Python\\Python313\\Lib\\site-packages\\tqdm\\auto.py:21: TqdmWarning: IProgress not found. Please update jupyter and ipywidgets. See https://ipywidgets.readthedocs.io/en/stable/user_install.html\n",
      "  from .autonotebook import tqdm as notebook_tqdm\n"
     ]
    }
   ],
   "source": [
    "import optuna\n",
    "from tqdm import tqdm\n",
    "\n",
    "def objective(trial):\n",
    "    # Remove activations_map from here, since it is already defined and used in cell 8.\n",
    "    # Also, do not redefine batch_size or train_loader, as they are already defined globally.\n",
    "    # You can remove this placeholder entirely.\n",
    "\n",
    "    # Use strings to represent tuples for Optuna compatibility\n",
    "    hidden_dims_options = [\"32,32\", \"32,64\", \"64,64\", \"64,32\", \"32,128\", \"128,32\",\"64,128\",\"128,64\", \"128,128\", \"64,128\", \"32,256\", \"128,256\", \"256,256\"]\n",
    "    kernel_sizes_options = [\"3,3\", \"5,3\", \"3,5\", \"5,5\", \"5,7\", \"7,5\", \"7,7\", \"9,5\", \"5,9\", \"9,9\", \"11,5\", \"5,11\", \"11,11\", \"13,5\", \"5,13\", \"13,13\"]\n",
    "    # Define activations_options outside the objective function to avoid dynamic value space error\n",
    "    activations_options = [\"relu,relu\", \"tanh,relu\", \"leaky_relu,sigmoid\", \"sigmoid,tanh\", \"relu,sigmoid\", \"tanh,tanh\", \"leaky_relu,leaky_relu\", \"tanh,leaky_relu\", \"relu,leaky_relu\", \"sigmoid,sigmoid\", \"sigmoid,leaky_relu\", \"relu,tanh\", \"tanh,relu\", \"leaky_relu,relu\", \"selu,leaky_relu\"]\n",
    "    hidden_dims_str = trial.suggest_categorical(\"hidden_dims\", hidden_dims_options)\n",
    "    kernel_sizes_str = trial.suggest_categorical(\"kernel_sizes\", kernel_sizes_options)\n",
    "    activations_str = trial.suggest_categorical(\"activations\", activations_options)\n",
    "\n",
    "    hidden_dims = tuple(map(int, hidden_dims_str.split(',')))\n",
    "    kernel_sizes = tuple(map(int, kernel_sizes_str.split(',')))\n",
    "    activations = tuple(activations_str.split(','))\n",
    "\n",
    "    lr = trial.suggest_loguniform(\"lr\", 1e-4, 1e-2)\n",
    "    batch_size = trial.suggest_categorical(\"batch_size\", (16, 32, 64))\n",
    "    num_epochs = 5\n",
    "    sample_input, sample_target = dataset[0]\n",
    "    input_dim = sample_input.shape[-1]\n",
    "    output_dim = sample_target.shape[-1]\n",
    "\n",
    "\n",
    "    model = SequenceCNN(\n",
    "        input_dim=input_dim,\n",
    "        hidden_dims=list(hidden_dims),\n",
    "        kernel_sizes=list(kernel_sizes),\n",
    "        output_dim=output_dim,\n",
    "        activations=activations\n",
    "    )\n",
    "    device = torch.device(\"cuda\" if torch.cuda.is_available() else \"cpu\")\n",
    "    model.to(device)\n",
    "\n",
    "    optimizer = optim.Adam(model.parameters(), lr=lr)\n",
    "    criterion = nn.MSELoss()\n",
    "\n",
    "    train_loader = TorchDataLoader(dataset, batch_size=batch_size, shuffle=True)\n",
    "\n",
    "    for epoch in range(num_epochs):\n",
    "        print(f\"Starting training epoch {epoch + 1}/{num_epochs}\")\n",
    "        print(f\"Learning rate: {lr}, Batch size: {batch_size}, Hidden dims: {hidden_dims}, Kernel sizes: {kernel_sizes}, Activations: {activations}\")\n",
    "        model.train()\n",
    "        for batch in tqdm(train_loader):\n",
    "            inputs, targets = batch\n",
    "            inputs, targets = inputs.to(device), targets.to(device)\n",
    "\n",
    "            optimizer.zero_grad()\n",
    "            outputs = model(inputs)\n",
    "            loss = criterion(outputs, targets)\n",
    "            loss.backward()\n",
    "            optimizer.step()\n",
    "\n",
    "    return loss.item()\n",
    "\n",
    "# Example usage:\n",
    "# study = optuna.create_study(direction=\"minimize\")\n",
    "# study.optimize(objective, n_trials=10)"
   ]
  },
  {
   "cell_type": "code",
   "execution_count": 5,
   "id": "d440f171",
   "metadata": {},
   "outputs": [],
   "source": [
    "# Split the dataset into train, validation, and test sets\n",
    "train_size = int(0.7 * len(dataset))\n",
    "val_size = int(0.15 * len(dataset))\n",
    "test_size = len(dataset) - train_size - val_size\n",
    "\n",
    "train_dataset, val_dataset, test_dataset = random_split(dataset, [train_size, val_size, test_size])\n",
    "\n",
    "# Create DataLoaders for each set\n",
    "batch_size = 32  # You can adjust this as needed\n",
    "\n",
    "train_loader = TorchDataLoader(train_dataset, batch_size=batch_size, shuffle=True)\n",
    "val_loader = TorchDataLoader(val_dataset, batch_size=batch_size, shuffle=False)\n",
    "test_loader = TorchDataLoader(test_dataset, batch_size=batch_size, shuffle=False)"
   ]
  },
  {
   "cell_type": "code",
   "execution_count": 6,
   "id": "8c668d3f",
   "metadata": {},
   "outputs": [
    {
     "name": "stdout",
     "output_type": "stream",
     "text": [
      "CUDA available: True\n",
      "CUDA device count: 1\n",
      "Current device: 0\n",
      "Device name: NVIDIA GeForce RTX 3060 Laptop GPU\n"
     ]
    }
   ],
   "source": [
    "import torch\n",
    "print(\"CUDA available:\", torch.cuda.is_available())\n",
    "if torch.cuda.is_available():\n",
    "    print(\"CUDA device count:\", torch.cuda.device_count())\n",
    "    print(\"Current device:\", torch.cuda.current_device())\n",
    "    print(\"Device name:\", torch.cuda.get_device_name(torch.cuda.current_device()))\n",
    "else:\n",
    "    print(\"Using CPU\")"
   ]
  },
  {
   "cell_type": "code",
   "execution_count": 9,
   "id": "50c6910f",
   "metadata": {},
   "outputs": [
    {
     "name": "stderr",
     "output_type": "stream",
     "text": [
      "[I 2025-06-08 20:19:40,129] A new study created in RDB with name: CNN_Sequence_Rainfall_Prediction_v3\n"
     ]
    },
    {
     "name": "stdout",
     "output_type": "stream",
     "text": [
      "Starting training epoch 1/5\n",
      "Learning rate: 0.0010651942939002158, Batch size: 64, Hidden dims: (64, 128), Kernel sizes: (5, 3), Activations: ('tanh', 'tanh')\n"
     ]
    },
    {
     "name": "stderr",
     "output_type": "stream",
     "text": [
      "100%|██████████| 57516/57516 [03:46<00:00, 254.33it/s]\n"
     ]
    },
    {
     "name": "stdout",
     "output_type": "stream",
     "text": [
      "Starting training epoch 2/5\n",
      "Learning rate: 0.0010651942939002158, Batch size: 64, Hidden dims: (64, 128), Kernel sizes: (5, 3), Activations: ('tanh', 'tanh')\n"
     ]
    },
    {
     "name": "stderr",
     "output_type": "stream",
     "text": [
      "100%|██████████| 57516/57516 [03:52<00:00, 247.53it/s]\n"
     ]
    },
    {
     "name": "stdout",
     "output_type": "stream",
     "text": [
      "Starting training epoch 3/5\n",
      "Learning rate: 0.0010651942939002158, Batch size: 64, Hidden dims: (64, 128), Kernel sizes: (5, 3), Activations: ('tanh', 'tanh')\n"
     ]
    },
    {
     "name": "stderr",
     "output_type": "stream",
     "text": [
      "100%|██████████| 57516/57516 [04:02<00:00, 237.38it/s]\n"
     ]
    },
    {
     "name": "stdout",
     "output_type": "stream",
     "text": [
      "Starting training epoch 4/5\n",
      "Learning rate: 0.0010651942939002158, Batch size: 64, Hidden dims: (64, 128), Kernel sizes: (5, 3), Activations: ('tanh', 'tanh')\n"
     ]
    },
    {
     "name": "stderr",
     "output_type": "stream",
     "text": [
      "100%|██████████| 57516/57516 [04:31<00:00, 212.13it/s]\n"
     ]
    },
    {
     "name": "stdout",
     "output_type": "stream",
     "text": [
      "Starting training epoch 5/5\n",
      "Learning rate: 0.0010651942939002158, Batch size: 64, Hidden dims: (64, 128), Kernel sizes: (5, 3), Activations: ('tanh', 'tanh')\n"
     ]
    },
    {
     "name": "stderr",
     "output_type": "stream",
     "text": [
      "100%|██████████| 57516/57516 [04:35<00:00, 208.45it/s]\n",
      "[I 2025-06-08 20:40:28,142] Trial 0 finished with value: 0.08529841154813766 and parameters: {'hidden_dims': '64,128', 'kernel_sizes': '5,3', 'activations': 'tanh,tanh', 'lr': 0.0010651942939002158, 'batch_size': 64}. Best is trial 0 with value: 0.08529841154813766.\n"
     ]
    },
    {
     "name": "stdout",
     "output_type": "stream",
     "text": [
      "Starting training epoch 1/5\n",
      "Learning rate: 0.0006767246436172493, Batch size: 16, Hidden dims: (32, 32), Kernel sizes: (9, 5), Activations: ('tanh', 'relu')\n"
     ]
    },
    {
     "name": "stderr",
     "output_type": "stream",
     "text": [
      "100%|██████████| 230062/230062 [13:50<00:00, 276.97it/s]\n"
     ]
    },
    {
     "name": "stdout",
     "output_type": "stream",
     "text": [
      "Starting training epoch 2/5\n",
      "Learning rate: 0.0006767246436172493, Batch size: 16, Hidden dims: (32, 32), Kernel sizes: (9, 5), Activations: ('tanh', 'relu')\n"
     ]
    },
    {
     "name": "stderr",
     "output_type": "stream",
     "text": [
      "100%|██████████| 230062/230062 [14:52<00:00, 257.87it/s]\n"
     ]
    },
    {
     "name": "stdout",
     "output_type": "stream",
     "text": [
      "Starting training epoch 3/5\n",
      "Learning rate: 0.0006767246436172493, Batch size: 16, Hidden dims: (32, 32), Kernel sizes: (9, 5), Activations: ('tanh', 'relu')\n"
     ]
    },
    {
     "name": "stderr",
     "output_type": "stream",
     "text": [
      "100%|██████████| 230062/230062 [14:46<00:00, 259.43it/s]\n"
     ]
    },
    {
     "name": "stdout",
     "output_type": "stream",
     "text": [
      "Starting training epoch 4/5\n",
      "Learning rate: 0.0006767246436172493, Batch size: 16, Hidden dims: (32, 32), Kernel sizes: (9, 5), Activations: ('tanh', 'relu')\n"
     ]
    },
    {
     "name": "stderr",
     "output_type": "stream",
     "text": [
      "100%|██████████| 230062/230062 [14:57<00:00, 256.28it/s]\n"
     ]
    },
    {
     "name": "stdout",
     "output_type": "stream",
     "text": [
      "Starting training epoch 5/5\n",
      "Learning rate: 0.0006767246436172493, Batch size: 16, Hidden dims: (32, 32), Kernel sizes: (9, 5), Activations: ('tanh', 'relu')\n"
     ]
    },
    {
     "name": "stderr",
     "output_type": "stream",
     "text": [
      "100%|██████████| 230062/230062 [15:11<00:00, 252.28it/s]\n",
      "[I 2025-06-08 21:54:07,499] Trial 1 finished with value: 0.26938411593437195 and parameters: {'hidden_dims': '32,32', 'kernel_sizes': '9,5', 'activations': 'tanh,relu', 'lr': 0.0006767246436172493, 'batch_size': 16}. Best is trial 0 with value: 0.08529841154813766.\n"
     ]
    },
    {
     "name": "stdout",
     "output_type": "stream",
     "text": [
      "Starting training epoch 1/5\n",
      "Learning rate: 0.00014854999409075044, Batch size: 32, Hidden dims: (64, 128), Kernel sizes: (5, 11), Activations: ('tanh', 'tanh')\n"
     ]
    },
    {
     "name": "stderr",
     "output_type": "stream",
     "text": [
      "100%|██████████| 115031/115031 [07:58<00:00, 240.49it/s]\n"
     ]
    },
    {
     "name": "stdout",
     "output_type": "stream",
     "text": [
      "Starting training epoch 2/5\n",
      "Learning rate: 0.00014854999409075044, Batch size: 32, Hidden dims: (64, 128), Kernel sizes: (5, 11), Activations: ('tanh', 'tanh')\n"
     ]
    },
    {
     "name": "stderr",
     "output_type": "stream",
     "text": [
      "100%|██████████| 115031/115031 [08:01<00:00, 238.80it/s]\n"
     ]
    },
    {
     "name": "stdout",
     "output_type": "stream",
     "text": [
      "Starting training epoch 3/5\n",
      "Learning rate: 0.00014854999409075044, Batch size: 32, Hidden dims: (64, 128), Kernel sizes: (5, 11), Activations: ('tanh', 'tanh')\n"
     ]
    },
    {
     "name": "stderr",
     "output_type": "stream",
     "text": [
      "100%|██████████| 115031/115031 [07:09<00:00, 267.67it/s]\n"
     ]
    },
    {
     "name": "stdout",
     "output_type": "stream",
     "text": [
      "Starting training epoch 4/5\n",
      "Learning rate: 0.00014854999409075044, Batch size: 32, Hidden dims: (64, 128), Kernel sizes: (5, 11), Activations: ('tanh', 'tanh')\n"
     ]
    },
    {
     "name": "stderr",
     "output_type": "stream",
     "text": [
      "100%|██████████| 115031/115031 [05:16<00:00, 363.82it/s]\n"
     ]
    },
    {
     "name": "stdout",
     "output_type": "stream",
     "text": [
      "Starting training epoch 5/5\n",
      "Learning rate: 0.00014854999409075044, Batch size: 32, Hidden dims: (64, 128), Kernel sizes: (5, 11), Activations: ('tanh', 'tanh')\n"
     ]
    },
    {
     "name": "stderr",
     "output_type": "stream",
     "text": [
      "100%|██████████| 115031/115031 [06:04<00:00, 315.64it/s]\n",
      "[I 2025-06-08 22:28:38,020] Trial 2 finished with value: 0.3404926657676697 and parameters: {'hidden_dims': '64,128', 'kernel_sizes': '5,11', 'activations': 'tanh,tanh', 'lr': 0.00014854999409075044, 'batch_size': 32}. Best is trial 0 with value: 0.08529841154813766.\n"
     ]
    },
    {
     "name": "stdout",
     "output_type": "stream",
     "text": [
      "Starting training epoch 1/5\n",
      "Learning rate: 0.008695477088009542, Batch size: 32, Hidden dims: (128, 32), Kernel sizes: (5, 7), Activations: ('relu', 'relu')\n"
     ]
    },
    {
     "name": "stderr",
     "output_type": "stream",
     "text": [
      "100%|██████████| 115031/115031 [06:30<00:00, 294.76it/s]\n"
     ]
    },
    {
     "name": "stdout",
     "output_type": "stream",
     "text": [
      "Starting training epoch 2/5\n",
      "Learning rate: 0.008695477088009542, Batch size: 32, Hidden dims: (128, 32), Kernel sizes: (5, 7), Activations: ('relu', 'relu')\n"
     ]
    },
    {
     "name": "stderr",
     "output_type": "stream",
     "text": [
      "100%|██████████| 115031/115031 [06:22<00:00, 301.00it/s]\n"
     ]
    },
    {
     "name": "stdout",
     "output_type": "stream",
     "text": [
      "Starting training epoch 3/5\n",
      "Learning rate: 0.008695477088009542, Batch size: 32, Hidden dims: (128, 32), Kernel sizes: (5, 7), Activations: ('relu', 'relu')\n"
     ]
    },
    {
     "name": "stderr",
     "output_type": "stream",
     "text": [
      "100%|██████████| 115031/115031 [06:31<00:00, 293.88it/s]\n"
     ]
    },
    {
     "name": "stdout",
     "output_type": "stream",
     "text": [
      "Starting training epoch 4/5\n",
      "Learning rate: 0.008695477088009542, Batch size: 32, Hidden dims: (128, 32), Kernel sizes: (5, 7), Activations: ('relu', 'relu')\n"
     ]
    },
    {
     "name": "stderr",
     "output_type": "stream",
     "text": [
      "100%|██████████| 115031/115031 [06:33<00:00, 292.23it/s]\n"
     ]
    },
    {
     "name": "stdout",
     "output_type": "stream",
     "text": [
      "Starting training epoch 5/5\n",
      "Learning rate: 0.008695477088009542, Batch size: 32, Hidden dims: (128, 32), Kernel sizes: (5, 7), Activations: ('relu', 'relu')\n"
     ]
    },
    {
     "name": "stderr",
     "output_type": "stream",
     "text": [
      "100%|██████████| 115031/115031 [06:27<00:00, 296.62it/s]\n",
      "[I 2025-06-08 23:01:03,403] Trial 3 finished with value: 0.15309256315231323 and parameters: {'hidden_dims': '128,32', 'kernel_sizes': '5,7', 'activations': 'relu,relu', 'lr': 0.008695477088009542, 'batch_size': 32}. Best is trial 0 with value: 0.08529841154813766.\n"
     ]
    },
    {
     "name": "stdout",
     "output_type": "stream",
     "text": [
      "Starting training epoch 1/5\n",
      "Learning rate: 0.00021572977331807706, Batch size: 32, Hidden dims: (256, 256), Kernel sizes: (13, 13), Activations: ('leaky_relu', 'leaky_relu')\n"
     ]
    },
    {
     "name": "stderr",
     "output_type": "stream",
     "text": [
      "100%|██████████| 115031/115031 [06:59<00:00, 274.23it/s]\n"
     ]
    },
    {
     "name": "stdout",
     "output_type": "stream",
     "text": [
      "Starting training epoch 2/5\n",
      "Learning rate: 0.00021572977331807706, Batch size: 32, Hidden dims: (256, 256), Kernel sizes: (13, 13), Activations: ('leaky_relu', 'leaky_relu')\n"
     ]
    },
    {
     "name": "stderr",
     "output_type": "stream",
     "text": [
      "100%|██████████| 115031/115031 [06:45<00:00, 283.88it/s]\n"
     ]
    },
    {
     "name": "stdout",
     "output_type": "stream",
     "text": [
      "Starting training epoch 3/5\n",
      "Learning rate: 0.00021572977331807706, Batch size: 32, Hidden dims: (256, 256), Kernel sizes: (13, 13), Activations: ('leaky_relu', 'leaky_relu')\n"
     ]
    },
    {
     "name": "stderr",
     "output_type": "stream",
     "text": [
      "100%|██████████| 115031/115031 [06:08<00:00, 311.90it/s]\n"
     ]
    },
    {
     "name": "stdout",
     "output_type": "stream",
     "text": [
      "Starting training epoch 4/5\n",
      "Learning rate: 0.00021572977331807706, Batch size: 32, Hidden dims: (256, 256), Kernel sizes: (13, 13), Activations: ('leaky_relu', 'leaky_relu')\n"
     ]
    },
    {
     "name": "stderr",
     "output_type": "stream",
     "text": [
      "100%|██████████| 115031/115031 [06:04<00:00, 316.01it/s]\n"
     ]
    },
    {
     "name": "stdout",
     "output_type": "stream",
     "text": [
      "Starting training epoch 5/5\n",
      "Learning rate: 0.00021572977331807706, Batch size: 32, Hidden dims: (256, 256), Kernel sizes: (13, 13), Activations: ('leaky_relu', 'leaky_relu')\n"
     ]
    },
    {
     "name": "stderr",
     "output_type": "stream",
     "text": [
      "100%|██████████| 115031/115031 [06:01<00:00, 318.26it/s]\n",
      "[I 2025-06-08 23:33:02,451] Trial 4 finished with value: 0.02425486035645008 and parameters: {'hidden_dims': '256,256', 'kernel_sizes': '13,13', 'activations': 'leaky_relu,leaky_relu', 'lr': 0.00021572977331807706, 'batch_size': 32}. Best is trial 4 with value: 0.02425486035645008.\n"
     ]
    },
    {
     "name": "stdout",
     "output_type": "stream",
     "text": [
      "Starting training epoch 1/5\n",
      "Learning rate: 0.0034139889664708037, Batch size: 64, Hidden dims: (128, 128), Kernel sizes: (5, 5), Activations: ('relu', 'relu')\n"
     ]
    },
    {
     "name": "stderr",
     "output_type": "stream",
     "text": [
      "100%|██████████| 57516/57516 [02:58<00:00, 322.98it/s]\n"
     ]
    },
    {
     "name": "stdout",
     "output_type": "stream",
     "text": [
      "Starting training epoch 2/5\n",
      "Learning rate: 0.0034139889664708037, Batch size: 64, Hidden dims: (128, 128), Kernel sizes: (5, 5), Activations: ('relu', 'relu')\n"
     ]
    },
    {
     "name": "stderr",
     "output_type": "stream",
     "text": [
      "100%|██████████| 57516/57516 [02:55<00:00, 327.82it/s]\n"
     ]
    },
    {
     "name": "stdout",
     "output_type": "stream",
     "text": [
      "Starting training epoch 3/5\n",
      "Learning rate: 0.0034139889664708037, Batch size: 64, Hidden dims: (128, 128), Kernel sizes: (5, 5), Activations: ('relu', 'relu')\n"
     ]
    },
    {
     "name": "stderr",
     "output_type": "stream",
     "text": [
      "100%|██████████| 57516/57516 [03:45<00:00, 254.54it/s]\n"
     ]
    },
    {
     "name": "stdout",
     "output_type": "stream",
     "text": [
      "Starting training epoch 4/5\n",
      "Learning rate: 0.0034139889664708037, Batch size: 64, Hidden dims: (128, 128), Kernel sizes: (5, 5), Activations: ('relu', 'relu')\n"
     ]
    },
    {
     "name": "stderr",
     "output_type": "stream",
     "text": [
      "100%|██████████| 57516/57516 [03:34<00:00, 267.59it/s]\n"
     ]
    },
    {
     "name": "stdout",
     "output_type": "stream",
     "text": [
      "Starting training epoch 5/5\n",
      "Learning rate: 0.0034139889664708037, Batch size: 64, Hidden dims: (128, 128), Kernel sizes: (5, 5), Activations: ('relu', 'relu')\n"
     ]
    },
    {
     "name": "stderr",
     "output_type": "stream",
     "text": [
      "100%|██████████| 57516/57516 [03:32<00:00, 270.69it/s]\n",
      "[I 2025-06-08 23:49:49,469] Trial 5 finished with value: 0.08249148726463318 and parameters: {'hidden_dims': '128,128', 'kernel_sizes': '5,5', 'activations': 'relu,relu', 'lr': 0.0034139889664708037, 'batch_size': 64}. Best is trial 4 with value: 0.02425486035645008.\n"
     ]
    },
    {
     "name": "stdout",
     "output_type": "stream",
     "text": [
      "Starting training epoch 1/5\n",
      "Learning rate: 0.0026622348710969488, Batch size: 16, Hidden dims: (256, 256), Kernel sizes: (11, 5), Activations: ('leaky_relu', 'leaky_relu')\n"
     ]
    },
    {
     "name": "stderr",
     "output_type": "stream",
     "text": [
      "100%|██████████| 230062/230062 [11:04<00:00, 345.97it/s]\n"
     ]
    },
    {
     "name": "stdout",
     "output_type": "stream",
     "text": [
      "Starting training epoch 2/5\n",
      "Learning rate: 0.0026622348710969488, Batch size: 16, Hidden dims: (256, 256), Kernel sizes: (11, 5), Activations: ('leaky_relu', 'leaky_relu')\n"
     ]
    },
    {
     "name": "stderr",
     "output_type": "stream",
     "text": [
      "100%|██████████| 230062/230062 [11:14<00:00, 340.95it/s]\n"
     ]
    },
    {
     "name": "stdout",
     "output_type": "stream",
     "text": [
      "Starting training epoch 3/5\n",
      "Learning rate: 0.0026622348710969488, Batch size: 16, Hidden dims: (256, 256), Kernel sizes: (11, 5), Activations: ('leaky_relu', 'leaky_relu')\n"
     ]
    },
    {
     "name": "stderr",
     "output_type": "stream",
     "text": [
      "100%|██████████| 230062/230062 [11:09<00:00, 343.85it/s]\n"
     ]
    },
    {
     "name": "stdout",
     "output_type": "stream",
     "text": [
      "Starting training epoch 4/5\n",
      "Learning rate: 0.0026622348710969488, Batch size: 16, Hidden dims: (256, 256), Kernel sizes: (11, 5), Activations: ('leaky_relu', 'leaky_relu')\n"
     ]
    },
    {
     "name": "stderr",
     "output_type": "stream",
     "text": [
      "100%|██████████| 230062/230062 [11:07<00:00, 344.83it/s]\n"
     ]
    },
    {
     "name": "stdout",
     "output_type": "stream",
     "text": [
      "Starting training epoch 5/5\n",
      "Learning rate: 0.0026622348710969488, Batch size: 16, Hidden dims: (256, 256), Kernel sizes: (11, 5), Activations: ('leaky_relu', 'leaky_relu')\n"
     ]
    },
    {
     "name": "stderr",
     "output_type": "stream",
     "text": [
      "100%|██████████| 230062/230062 [11:03<00:00, 346.65it/s]\n",
      "[I 2025-06-09 00:45:29,255] Trial 6 finished with value: 0.15973030030727386 and parameters: {'hidden_dims': '256,256', 'kernel_sizes': '11,5', 'activations': 'leaky_relu,leaky_relu', 'lr': 0.0026622348710969488, 'batch_size': 16}. Best is trial 4 with value: 0.02425486035645008.\n"
     ]
    },
    {
     "name": "stdout",
     "output_type": "stream",
     "text": [
      "Starting training epoch 1/5\n",
      "Learning rate: 0.00642945315468369, Batch size: 16, Hidden dims: (128, 32), Kernel sizes: (3, 3), Activations: ('leaky_relu', 'relu')\n"
     ]
    },
    {
     "name": "stderr",
     "output_type": "stream",
     "text": [
      "100%|██████████| 230062/230062 [11:40<00:00, 328.66it/s]\n"
     ]
    },
    {
     "name": "stdout",
     "output_type": "stream",
     "text": [
      "Starting training epoch 2/5\n",
      "Learning rate: 0.00642945315468369, Batch size: 16, Hidden dims: (128, 32), Kernel sizes: (3, 3), Activations: ('leaky_relu', 'relu')\n"
     ]
    },
    {
     "name": "stderr",
     "output_type": "stream",
     "text": [
      "100%|██████████| 230062/230062 [12:02<00:00, 318.30it/s]\n"
     ]
    },
    {
     "name": "stdout",
     "output_type": "stream",
     "text": [
      "Starting training epoch 3/5\n",
      "Learning rate: 0.00642945315468369, Batch size: 16, Hidden dims: (128, 32), Kernel sizes: (3, 3), Activations: ('leaky_relu', 'relu')\n"
     ]
    },
    {
     "name": "stderr",
     "output_type": "stream",
     "text": [
      "100%|██████████| 230062/230062 [12:01<00:00, 318.99it/s]\n"
     ]
    },
    {
     "name": "stdout",
     "output_type": "stream",
     "text": [
      "Starting training epoch 4/5\n",
      "Learning rate: 0.00642945315468369, Batch size: 16, Hidden dims: (128, 32), Kernel sizes: (3, 3), Activations: ('leaky_relu', 'relu')\n"
     ]
    },
    {
     "name": "stderr",
     "output_type": "stream",
     "text": [
      "100%|██████████| 230062/230062 [12:24<00:00, 309.13it/s]\n"
     ]
    },
    {
     "name": "stdout",
     "output_type": "stream",
     "text": [
      "Starting training epoch 5/5\n",
      "Learning rate: 0.00642945315468369, Batch size: 16, Hidden dims: (128, 32), Kernel sizes: (3, 3), Activations: ('leaky_relu', 'relu')\n"
     ]
    },
    {
     "name": "stderr",
     "output_type": "stream",
     "text": [
      "100%|██████████| 230062/230062 [11:56<00:00, 321.16it/s]\n",
      "[I 2025-06-09 01:45:33,930] Trial 7 finished with value: 0.011398657225072384 and parameters: {'hidden_dims': '128,32', 'kernel_sizes': '3,3', 'activations': 'leaky_relu,relu', 'lr': 0.00642945315468369, 'batch_size': 16}. Best is trial 7 with value: 0.011398657225072384.\n"
     ]
    },
    {
     "name": "stdout",
     "output_type": "stream",
     "text": [
      "Starting training epoch 1/5\n",
      "Learning rate: 0.0007711804872327728, Batch size: 64, Hidden dims: (32, 32), Kernel sizes: (7, 7), Activations: ('sigmoid', 'leaky_relu')\n"
     ]
    },
    {
     "name": "stderr",
     "output_type": "stream",
     "text": [
      "100%|██████████| 57516/57516 [04:07<00:00, 232.18it/s]\n"
     ]
    },
    {
     "name": "stdout",
     "output_type": "stream",
     "text": [
      "Starting training epoch 2/5\n",
      "Learning rate: 0.0007711804872327728, Batch size: 64, Hidden dims: (32, 32), Kernel sizes: (7, 7), Activations: ('sigmoid', 'leaky_relu')\n"
     ]
    },
    {
     "name": "stderr",
     "output_type": "stream",
     "text": [
      "100%|██████████| 57516/57516 [04:01<00:00, 238.44it/s]\n"
     ]
    },
    {
     "name": "stdout",
     "output_type": "stream",
     "text": [
      "Starting training epoch 3/5\n",
      "Learning rate: 0.0007711804872327728, Batch size: 64, Hidden dims: (32, 32), Kernel sizes: (7, 7), Activations: ('sigmoid', 'leaky_relu')\n"
     ]
    },
    {
     "name": "stderr",
     "output_type": "stream",
     "text": [
      "100%|██████████| 57516/57516 [04:00<00:00, 238.99it/s]\n"
     ]
    },
    {
     "name": "stdout",
     "output_type": "stream",
     "text": [
      "Starting training epoch 4/5\n",
      "Learning rate: 0.0007711804872327728, Batch size: 64, Hidden dims: (32, 32), Kernel sizes: (7, 7), Activations: ('sigmoid', 'leaky_relu')\n"
     ]
    },
    {
     "name": "stderr",
     "output_type": "stream",
     "text": [
      "100%|██████████| 57516/57516 [04:09<00:00, 230.14it/s]\n"
     ]
    },
    {
     "name": "stdout",
     "output_type": "stream",
     "text": [
      "Starting training epoch 5/5\n",
      "Learning rate: 0.0007711804872327728, Batch size: 64, Hidden dims: (32, 32), Kernel sizes: (7, 7), Activations: ('sigmoid', 'leaky_relu')\n"
     ]
    },
    {
     "name": "stderr",
     "output_type": "stream",
     "text": [
      "100%|██████████| 57516/57516 [04:08<00:00, 231.76it/s]\n",
      "[I 2025-06-09 02:06:01,754] Trial 8 finished with value: 0.2606435716152191 and parameters: {'hidden_dims': '32,32', 'kernel_sizes': '7,7', 'activations': 'sigmoid,leaky_relu', 'lr': 0.0007711804872327728, 'batch_size': 64}. Best is trial 7 with value: 0.011398657225072384.\n"
     ]
    },
    {
     "name": "stdout",
     "output_type": "stream",
     "text": [
      "Starting training epoch 1/5\n",
      "Learning rate: 0.0014576269253831129, Batch size: 16, Hidden dims: (32, 128), Kernel sizes: (13, 13), Activations: ('relu', 'tanh')\n"
     ]
    },
    {
     "name": "stderr",
     "output_type": "stream",
     "text": [
      "100%|██████████| 230062/230062 [11:04<00:00, 346.46it/s]\n"
     ]
    },
    {
     "name": "stdout",
     "output_type": "stream",
     "text": [
      "Starting training epoch 2/5\n",
      "Learning rate: 0.0014576269253831129, Batch size: 16, Hidden dims: (32, 128), Kernel sizes: (13, 13), Activations: ('relu', 'tanh')\n"
     ]
    },
    {
     "name": "stderr",
     "output_type": "stream",
     "text": [
      "100%|██████████| 230062/230062 [10:52<00:00, 352.80it/s]\n"
     ]
    },
    {
     "name": "stdout",
     "output_type": "stream",
     "text": [
      "Starting training epoch 3/5\n",
      "Learning rate: 0.0014576269253831129, Batch size: 16, Hidden dims: (32, 128), Kernel sizes: (13, 13), Activations: ('relu', 'tanh')\n"
     ]
    },
    {
     "name": "stderr",
     "output_type": "stream",
     "text": [
      "100%|██████████| 230062/230062 [10:56<00:00, 350.51it/s]\n"
     ]
    },
    {
     "name": "stdout",
     "output_type": "stream",
     "text": [
      "Starting training epoch 4/5\n",
      "Learning rate: 0.0014576269253831129, Batch size: 16, Hidden dims: (32, 128), Kernel sizes: (13, 13), Activations: ('relu', 'tanh')\n"
     ]
    },
    {
     "name": "stderr",
     "output_type": "stream",
     "text": [
      "100%|██████████| 230062/230062 [10:50<00:00, 353.60it/s]\n"
     ]
    },
    {
     "name": "stdout",
     "output_type": "stream",
     "text": [
      "Starting training epoch 5/5\n",
      "Learning rate: 0.0014576269253831129, Batch size: 16, Hidden dims: (32, 128), Kernel sizes: (13, 13), Activations: ('relu', 'tanh')\n"
     ]
    },
    {
     "name": "stderr",
     "output_type": "stream",
     "text": [
      "100%|██████████| 230062/230062 [10:54<00:00, 351.69it/s]\n",
      "[I 2025-06-09 03:00:39,158] Trial 9 finished with value: 0.05109427496790886 and parameters: {'hidden_dims': '32,128', 'kernel_sizes': '13,13', 'activations': 'relu,tanh', 'lr': 0.0014576269253831129, 'batch_size': 16}. Best is trial 7 with value: 0.011398657225072384.\n"
     ]
    },
    {
     "name": "stdout",
     "output_type": "stream",
     "text": [
      "Starting training epoch 1/5\n",
      "Learning rate: 0.008893126687335958, Batch size: 16, Hidden dims: (128, 32), Kernel sizes: (3, 3), Activations: ('leaky_relu', 'relu')\n"
     ]
    },
    {
     "name": "stderr",
     "output_type": "stream",
     "text": [
      "100%|██████████| 230062/230062 [12:02<00:00, 318.58it/s]\n"
     ]
    },
    {
     "name": "stdout",
     "output_type": "stream",
     "text": [
      "Starting training epoch 2/5\n",
      "Learning rate: 0.008893126687335958, Batch size: 16, Hidden dims: (128, 32), Kernel sizes: (3, 3), Activations: ('leaky_relu', 'relu')\n"
     ]
    },
    {
     "name": "stderr",
     "output_type": "stream",
     "text": [
      "100%|██████████| 230062/230062 [12:05<00:00, 317.09it/s]\n"
     ]
    },
    {
     "name": "stdout",
     "output_type": "stream",
     "text": [
      "Starting training epoch 3/5\n",
      "Learning rate: 0.008893126687335958, Batch size: 16, Hidden dims: (128, 32), Kernel sizes: (3, 3), Activations: ('leaky_relu', 'relu')\n"
     ]
    },
    {
     "name": "stderr",
     "output_type": "stream",
     "text": [
      "100%|██████████| 230062/230062 [12:24<00:00, 308.87it/s]\n"
     ]
    },
    {
     "name": "stdout",
     "output_type": "stream",
     "text": [
      "Starting training epoch 4/5\n",
      "Learning rate: 0.008893126687335958, Batch size: 16, Hidden dims: (128, 32), Kernel sizes: (3, 3), Activations: ('leaky_relu', 'relu')\n"
     ]
    },
    {
     "name": "stderr",
     "output_type": "stream",
     "text": [
      "100%|██████████| 230062/230062 [12:15<00:00, 312.60it/s]\n"
     ]
    },
    {
     "name": "stdout",
     "output_type": "stream",
     "text": [
      "Starting training epoch 5/5\n",
      "Learning rate: 0.008893126687335958, Batch size: 16, Hidden dims: (128, 32), Kernel sizes: (3, 3), Activations: ('leaky_relu', 'relu')\n"
     ]
    },
    {
     "name": "stderr",
     "output_type": "stream",
     "text": [
      "100%|██████████| 230062/230062 [12:01<00:00, 319.07it/s]\n",
      "[I 2025-06-09 04:01:28,840] Trial 10 finished with value: 0.015621443279087543 and parameters: {'hidden_dims': '128,32', 'kernel_sizes': '3,3', 'activations': 'leaky_relu,relu', 'lr': 0.008893126687335958, 'batch_size': 16}. Best is trial 7 with value: 0.011398657225072384.\n"
     ]
    },
    {
     "name": "stdout",
     "output_type": "stream",
     "text": [
      "Starting training epoch 1/5\n",
      "Learning rate: 0.008821707111378616, Batch size: 16, Hidden dims: (128, 32), Kernel sizes: (3, 3), Activations: ('leaky_relu', 'relu')\n"
     ]
    },
    {
     "name": "stderr",
     "output_type": "stream",
     "text": [
      "100%|██████████| 230062/230062 [12:03<00:00, 318.11it/s]\n"
     ]
    },
    {
     "name": "stdout",
     "output_type": "stream",
     "text": [
      "Starting training epoch 2/5\n",
      "Learning rate: 0.008821707111378616, Batch size: 16, Hidden dims: (128, 32), Kernel sizes: (3, 3), Activations: ('leaky_relu', 'relu')\n"
     ]
    },
    {
     "name": "stderr",
     "output_type": "stream",
     "text": [
      "100%|██████████| 230062/230062 [11:56<00:00, 320.97it/s]\n"
     ]
    },
    {
     "name": "stdout",
     "output_type": "stream",
     "text": [
      "Starting training epoch 3/5\n",
      "Learning rate: 0.008821707111378616, Batch size: 16, Hidden dims: (128, 32), Kernel sizes: (3, 3), Activations: ('leaky_relu', 'relu')\n"
     ]
    },
    {
     "name": "stderr",
     "output_type": "stream",
     "text": [
      "100%|██████████| 230062/230062 [11:49<00:00, 324.30it/s]\n"
     ]
    },
    {
     "name": "stdout",
     "output_type": "stream",
     "text": [
      "Starting training epoch 4/5\n",
      "Learning rate: 0.008821707111378616, Batch size: 16, Hidden dims: (128, 32), Kernel sizes: (3, 3), Activations: ('leaky_relu', 'relu')\n"
     ]
    },
    {
     "name": "stderr",
     "output_type": "stream",
     "text": [
      "100%|██████████| 230062/230062 [12:13<00:00, 313.61it/s]\n"
     ]
    },
    {
     "name": "stdout",
     "output_type": "stream",
     "text": [
      "Starting training epoch 5/5\n",
      "Learning rate: 0.008821707111378616, Batch size: 16, Hidden dims: (128, 32), Kernel sizes: (3, 3), Activations: ('leaky_relu', 'relu')\n"
     ]
    },
    {
     "name": "stderr",
     "output_type": "stream",
     "text": [
      "100%|██████████| 230062/230062 [12:15<00:00, 312.72it/s]\n",
      "[I 2025-06-09 05:01:47,652] Trial 11 finished with value: 0.08991184830665588 and parameters: {'hidden_dims': '128,32', 'kernel_sizes': '3,3', 'activations': 'leaky_relu,relu', 'lr': 0.008821707111378616, 'batch_size': 16}. Best is trial 7 with value: 0.011398657225072384.\n"
     ]
    },
    {
     "name": "stdout",
     "output_type": "stream",
     "text": [
      "Starting training epoch 1/5\n",
      "Learning rate: 0.004190730241597069, Batch size: 16, Hidden dims: (64, 128), Kernel sizes: (3, 3), Activations: ('leaky_relu', 'relu')\n"
     ]
    },
    {
     "name": "stderr",
     "output_type": "stream",
     "text": [
      "100%|██████████| 230062/230062 [12:47<00:00, 299.65it/s]\n"
     ]
    },
    {
     "name": "stdout",
     "output_type": "stream",
     "text": [
      "Starting training epoch 2/5\n",
      "Learning rate: 0.004190730241597069, Batch size: 16, Hidden dims: (64, 128), Kernel sizes: (3, 3), Activations: ('leaky_relu', 'relu')\n"
     ]
    },
    {
     "name": "stderr",
     "output_type": "stream",
     "text": [
      "100%|██████████| 230062/230062 [12:06<00:00, 316.59it/s]\n"
     ]
    },
    {
     "name": "stdout",
     "output_type": "stream",
     "text": [
      "Starting training epoch 3/5\n",
      "Learning rate: 0.004190730241597069, Batch size: 16, Hidden dims: (64, 128), Kernel sizes: (3, 3), Activations: ('leaky_relu', 'relu')\n"
     ]
    },
    {
     "name": "stderr",
     "output_type": "stream",
     "text": [
      "100%|██████████| 230062/230062 [12:00<00:00, 319.20it/s]\n"
     ]
    },
    {
     "name": "stdout",
     "output_type": "stream",
     "text": [
      "Starting training epoch 4/5\n",
      "Learning rate: 0.004190730241597069, Batch size: 16, Hidden dims: (64, 128), Kernel sizes: (3, 3), Activations: ('leaky_relu', 'relu')\n"
     ]
    },
    {
     "name": "stderr",
     "output_type": "stream",
     "text": [
      "100%|██████████| 230062/230062 [12:08<00:00, 315.64it/s]\n"
     ]
    },
    {
     "name": "stdout",
     "output_type": "stream",
     "text": [
      "Starting training epoch 5/5\n",
      "Learning rate: 0.004190730241597069, Batch size: 16, Hidden dims: (64, 128), Kernel sizes: (3, 3), Activations: ('leaky_relu', 'relu')\n"
     ]
    },
    {
     "name": "stderr",
     "output_type": "stream",
     "text": [
      "100%|██████████| 230062/230062 [12:07<00:00, 316.11it/s]\n",
      "[I 2025-06-09 06:02:59,677] Trial 12 finished with value: 0.07912928611040115 and parameters: {'hidden_dims': '64,128', 'kernel_sizes': '3,3', 'activations': 'leaky_relu,relu', 'lr': 0.004190730241597069, 'batch_size': 16}. Best is trial 7 with value: 0.011398657225072384.\n"
     ]
    },
    {
     "name": "stdout",
     "output_type": "stream",
     "text": [
      "Starting training epoch 1/5\n",
      "Learning rate: 0.00538644174274093, Batch size: 16, Hidden dims: (32, 64), Kernel sizes: (13, 5), Activations: ('relu', 'sigmoid')\n"
     ]
    },
    {
     "name": "stderr",
     "output_type": "stream",
     "text": [
      "100%|██████████| 230062/230062 [12:10<00:00, 314.81it/s]\n"
     ]
    },
    {
     "name": "stdout",
     "output_type": "stream",
     "text": [
      "Starting training epoch 2/5\n",
      "Learning rate: 0.00538644174274093, Batch size: 16, Hidden dims: (32, 64), Kernel sizes: (13, 5), Activations: ('relu', 'sigmoid')\n"
     ]
    },
    {
     "name": "stderr",
     "output_type": "stream",
     "text": [
      "100%|██████████| 230062/230062 [12:06<00:00, 316.52it/s]\n"
     ]
    },
    {
     "name": "stdout",
     "output_type": "stream",
     "text": [
      "Starting training epoch 3/5\n",
      "Learning rate: 0.00538644174274093, Batch size: 16, Hidden dims: (32, 64), Kernel sizes: (13, 5), Activations: ('relu', 'sigmoid')\n"
     ]
    },
    {
     "name": "stderr",
     "output_type": "stream",
     "text": [
      "100%|██████████| 230062/230062 [12:07<00:00, 316.27it/s]\n"
     ]
    },
    {
     "name": "stdout",
     "output_type": "stream",
     "text": [
      "Starting training epoch 4/5\n",
      "Learning rate: 0.00538644174274093, Batch size: 16, Hidden dims: (32, 64), Kernel sizes: (13, 5), Activations: ('relu', 'sigmoid')\n"
     ]
    },
    {
     "name": "stderr",
     "output_type": "stream",
     "text": [
      "100%|██████████| 230062/230062 [12:14<00:00, 313.06it/s]\n"
     ]
    },
    {
     "name": "stdout",
     "output_type": "stream",
     "text": [
      "Starting training epoch 5/5\n",
      "Learning rate: 0.00538644174274093, Batch size: 16, Hidden dims: (32, 64), Kernel sizes: (13, 5), Activations: ('relu', 'sigmoid')\n"
     ]
    },
    {
     "name": "stderr",
     "output_type": "stream",
     "text": [
      "100%|██████████| 230062/230062 [12:26<00:00, 308.34it/s]\n",
      "[I 2025-06-09 07:04:05,921] Trial 13 finished with value: 0.002734301146119833 and parameters: {'hidden_dims': '32,64', 'kernel_sizes': '13,5', 'activations': 'relu,sigmoid', 'lr': 0.00538644174274093, 'batch_size': 16}. Best is trial 13 with value: 0.002734301146119833.\n"
     ]
    },
    {
     "name": "stdout",
     "output_type": "stream",
     "text": [
      "Starting training epoch 1/5\n",
      "Learning rate: 0.004473617404172703, Batch size: 16, Hidden dims: (32, 64), Kernel sizes: (13, 5), Activations: ('relu', 'sigmoid')\n"
     ]
    },
    {
     "name": "stderr",
     "output_type": "stream",
     "text": [
      "100%|██████████| 230062/230062 [12:04<00:00, 317.42it/s]\n"
     ]
    },
    {
     "name": "stdout",
     "output_type": "stream",
     "text": [
      "Starting training epoch 2/5\n",
      "Learning rate: 0.004473617404172703, Batch size: 16, Hidden dims: (32, 64), Kernel sizes: (13, 5), Activations: ('relu', 'sigmoid')\n"
     ]
    },
    {
     "name": "stderr",
     "output_type": "stream",
     "text": [
      "100%|██████████| 230062/230062 [12:11<00:00, 314.47it/s]\n"
     ]
    },
    {
     "name": "stdout",
     "output_type": "stream",
     "text": [
      "Starting training epoch 3/5\n",
      "Learning rate: 0.004473617404172703, Batch size: 16, Hidden dims: (32, 64), Kernel sizes: (13, 5), Activations: ('relu', 'sigmoid')\n"
     ]
    },
    {
     "name": "stderr",
     "output_type": "stream",
     "text": [
      "100%|██████████| 230062/230062 [12:04<00:00, 317.59it/s]\n"
     ]
    },
    {
     "name": "stdout",
     "output_type": "stream",
     "text": [
      "Starting training epoch 4/5\n",
      "Learning rate: 0.004473617404172703, Batch size: 16, Hidden dims: (32, 64), Kernel sizes: (13, 5), Activations: ('relu', 'sigmoid')\n"
     ]
    },
    {
     "name": "stderr",
     "output_type": "stream",
     "text": [
      "100%|██████████| 230062/230062 [12:00<00:00, 319.17it/s]\n"
     ]
    },
    {
     "name": "stdout",
     "output_type": "stream",
     "text": [
      "Starting training epoch 5/5\n",
      "Learning rate: 0.004473617404172703, Batch size: 16, Hidden dims: (32, 64), Kernel sizes: (13, 5), Activations: ('relu', 'sigmoid')\n"
     ]
    },
    {
     "name": "stderr",
     "output_type": "stream",
     "text": [
      "100%|██████████| 230062/230062 [12:11<00:00, 314.45it/s]\n",
      "[I 2025-06-09 08:04:39,334] Trial 14 finished with value: 0.24113358557224274 and parameters: {'hidden_dims': '32,64', 'kernel_sizes': '13,5', 'activations': 'relu,sigmoid', 'lr': 0.004473617404172703, 'batch_size': 16}. Best is trial 13 with value: 0.002734301146119833.\n"
     ]
    },
    {
     "name": "stdout",
     "output_type": "stream",
     "text": [
      "Starting training epoch 1/5\n",
      "Learning rate: 0.0023048129277052514, Batch size: 16, Hidden dims: (128, 64), Kernel sizes: (5, 13), Activations: ('relu', 'sigmoid')\n"
     ]
    },
    {
     "name": "stderr",
     "output_type": "stream",
     "text": [
      "100%|██████████| 230062/230062 [11:42<00:00, 327.29it/s]\n"
     ]
    },
    {
     "name": "stdout",
     "output_type": "stream",
     "text": [
      "Starting training epoch 2/5\n",
      "Learning rate: 0.0023048129277052514, Batch size: 16, Hidden dims: (128, 64), Kernel sizes: (5, 13), Activations: ('relu', 'sigmoid')\n"
     ]
    },
    {
     "name": "stderr",
     "output_type": "stream",
     "text": [
      "100%|██████████| 230062/230062 [11:38<00:00, 329.24it/s]\n"
     ]
    },
    {
     "name": "stdout",
     "output_type": "stream",
     "text": [
      "Starting training epoch 3/5\n",
      "Learning rate: 0.0023048129277052514, Batch size: 16, Hidden dims: (128, 64), Kernel sizes: (5, 13), Activations: ('relu', 'sigmoid')\n"
     ]
    },
    {
     "name": "stderr",
     "output_type": "stream",
     "text": [
      "100%|██████████| 230062/230062 [11:46<00:00, 325.76it/s]\n"
     ]
    },
    {
     "name": "stdout",
     "output_type": "stream",
     "text": [
      "Starting training epoch 4/5\n",
      "Learning rate: 0.0023048129277052514, Batch size: 16, Hidden dims: (128, 64), Kernel sizes: (5, 13), Activations: ('relu', 'sigmoid')\n"
     ]
    },
    {
     "name": "stderr",
     "output_type": "stream",
     "text": [
      "100%|██████████| 230062/230062 [11:46<00:00, 325.57it/s]\n"
     ]
    },
    {
     "name": "stdout",
     "output_type": "stream",
     "text": [
      "Starting training epoch 5/5\n",
      "Learning rate: 0.0023048129277052514, Batch size: 16, Hidden dims: (128, 64), Kernel sizes: (5, 13), Activations: ('relu', 'sigmoid')\n"
     ]
    },
    {
     "name": "stderr",
     "output_type": "stream",
     "text": [
      "100%|██████████| 230062/230062 [11:42<00:00, 327.43it/s]\n",
      "[I 2025-06-09 09:03:16,672] Trial 15 finished with value: 0.006539603695273399 and parameters: {'hidden_dims': '128,64', 'kernel_sizes': '5,13', 'activations': 'relu,sigmoid', 'lr': 0.0023048129277052514, 'batch_size': 16}. Best is trial 13 with value: 0.002734301146119833.\n"
     ]
    },
    {
     "name": "stdout",
     "output_type": "stream",
     "text": [
      "Starting training epoch 1/5\n",
      "Learning rate: 0.0019430415294862113, Batch size: 16, Hidden dims: (128, 64), Kernel sizes: (5, 13), Activations: ('relu', 'sigmoid')\n"
     ]
    },
    {
     "name": "stderr",
     "output_type": "stream",
     "text": [
      "100%|██████████| 230062/230062 [11:44<00:00, 326.39it/s]\n"
     ]
    },
    {
     "name": "stdout",
     "output_type": "stream",
     "text": [
      "Starting training epoch 2/5\n",
      "Learning rate: 0.0019430415294862113, Batch size: 16, Hidden dims: (128, 64), Kernel sizes: (5, 13), Activations: ('relu', 'sigmoid')\n"
     ]
    },
    {
     "name": "stderr",
     "output_type": "stream",
     "text": [
      "100%|██████████| 230062/230062 [11:44<00:00, 326.79it/s]\n"
     ]
    },
    {
     "name": "stdout",
     "output_type": "stream",
     "text": [
      "Starting training epoch 3/5\n",
      "Learning rate: 0.0019430415294862113, Batch size: 16, Hidden dims: (128, 64), Kernel sizes: (5, 13), Activations: ('relu', 'sigmoid')\n"
     ]
    },
    {
     "name": "stderr",
     "output_type": "stream",
     "text": [
      "100%|██████████| 230062/230062 [11:44<00:00, 326.71it/s]\n"
     ]
    },
    {
     "name": "stdout",
     "output_type": "stream",
     "text": [
      "Starting training epoch 4/5\n",
      "Learning rate: 0.0019430415294862113, Batch size: 16, Hidden dims: (128, 64), Kernel sizes: (5, 13), Activations: ('relu', 'sigmoid')\n"
     ]
    },
    {
     "name": "stderr",
     "output_type": "stream",
     "text": [
      "100%|██████████| 230062/230062 [11:44<00:00, 326.60it/s]\n"
     ]
    },
    {
     "name": "stdout",
     "output_type": "stream",
     "text": [
      "Starting training epoch 5/5\n",
      "Learning rate: 0.0019430415294862113, Batch size: 16, Hidden dims: (128, 64), Kernel sizes: (5, 13), Activations: ('relu', 'sigmoid')\n"
     ]
    },
    {
     "name": "stderr",
     "output_type": "stream",
     "text": [
      "100%|██████████| 230062/230062 [11:30<00:00, 332.96it/s]\n",
      "[I 2025-06-09 10:01:45,276] Trial 16 finished with value: 0.07914354652166367 and parameters: {'hidden_dims': '128,64', 'kernel_sizes': '5,13', 'activations': 'relu,sigmoid', 'lr': 0.0019430415294862113, 'batch_size': 16}. Best is trial 13 with value: 0.002734301146119833.\n"
     ]
    },
    {
     "name": "stdout",
     "output_type": "stream",
     "text": [
      "Starting training epoch 1/5\n",
      "Learning rate: 0.00046137951667444725, Batch size: 16, Hidden dims: (32, 64), Kernel sizes: (5, 13), Activations: ('sigmoid', 'sigmoid')\n"
     ]
    },
    {
     "name": "stderr",
     "output_type": "stream",
     "text": [
      "100%|██████████| 230062/230062 [12:14<00:00, 313.35it/s]\n"
     ]
    },
    {
     "name": "stdout",
     "output_type": "stream",
     "text": [
      "Starting training epoch 2/5\n",
      "Learning rate: 0.00046137951667444725, Batch size: 16, Hidden dims: (32, 64), Kernel sizes: (5, 13), Activations: ('sigmoid', 'sigmoid')\n"
     ]
    },
    {
     "name": "stderr",
     "output_type": "stream",
     "text": [
      "100%|██████████| 230062/230062 [12:08<00:00, 315.73it/s]\n"
     ]
    },
    {
     "name": "stdout",
     "output_type": "stream",
     "text": [
      "Starting training epoch 3/5\n",
      "Learning rate: 0.00046137951667444725, Batch size: 16, Hidden dims: (32, 64), Kernel sizes: (5, 13), Activations: ('sigmoid', 'sigmoid')\n"
     ]
    },
    {
     "name": "stderr",
     "output_type": "stream",
     "text": [
      "100%|██████████| 230062/230062 [12:08<00:00, 315.66it/s]\n"
     ]
    },
    {
     "name": "stdout",
     "output_type": "stream",
     "text": [
      "Starting training epoch 4/5\n",
      "Learning rate: 0.00046137951667444725, Batch size: 16, Hidden dims: (32, 64), Kernel sizes: (5, 13), Activations: ('sigmoid', 'sigmoid')\n"
     ]
    },
    {
     "name": "stderr",
     "output_type": "stream",
     "text": [
      "100%|██████████| 230062/230062 [11:58<00:00, 320.33it/s]\n"
     ]
    },
    {
     "name": "stdout",
     "output_type": "stream",
     "text": [
      "Starting training epoch 5/5\n",
      "Learning rate: 0.00046137951667444725, Batch size: 16, Hidden dims: (32, 64), Kernel sizes: (5, 13), Activations: ('sigmoid', 'sigmoid')\n"
     ]
    },
    {
     "name": "stderr",
     "output_type": "stream",
     "text": [
      "100%|██████████| 230062/230062 [11:57<00:00, 320.70it/s]\n",
      "[I 2025-06-09 11:02:12,712] Trial 17 finished with value: 0.04041643440723419 and parameters: {'hidden_dims': '32,64', 'kernel_sizes': '5,13', 'activations': 'sigmoid,sigmoid', 'lr': 0.00046137951667444725, 'batch_size': 16}. Best is trial 13 with value: 0.002734301146119833.\n"
     ]
    },
    {
     "name": "stdout",
     "output_type": "stream",
     "text": [
      "Starting training epoch 1/5\n",
      "Learning rate: 0.0021629840831280498, Batch size: 64, Hidden dims: (32, 256), Kernel sizes: (13, 5), Activations: ('relu', 'sigmoid')\n"
     ]
    },
    {
     "name": "stderr",
     "output_type": "stream",
     "text": [
      "100%|██████████| 57516/57516 [03:54<00:00, 245.23it/s]\n"
     ]
    },
    {
     "name": "stdout",
     "output_type": "stream",
     "text": [
      "Starting training epoch 2/5\n",
      "Learning rate: 0.0021629840831280498, Batch size: 64, Hidden dims: (32, 256), Kernel sizes: (13, 5), Activations: ('relu', 'sigmoid')\n"
     ]
    },
    {
     "name": "stderr",
     "output_type": "stream",
     "text": [
      "100%|██████████| 57516/57516 [04:07<00:00, 232.45it/s]\n"
     ]
    },
    {
     "name": "stdout",
     "output_type": "stream",
     "text": [
      "Starting training epoch 3/5\n",
      "Learning rate: 0.0021629840831280498, Batch size: 64, Hidden dims: (32, 256), Kernel sizes: (13, 5), Activations: ('relu', 'sigmoid')\n"
     ]
    },
    {
     "name": "stderr",
     "output_type": "stream",
     "text": [
      "100%|██████████| 57516/57516 [04:06<00:00, 233.05it/s]\n"
     ]
    },
    {
     "name": "stdout",
     "output_type": "stream",
     "text": [
      "Starting training epoch 4/5\n",
      "Learning rate: 0.0021629840831280498, Batch size: 64, Hidden dims: (32, 256), Kernel sizes: (13, 5), Activations: ('relu', 'sigmoid')\n"
     ]
    },
    {
     "name": "stderr",
     "output_type": "stream",
     "text": [
      "100%|██████████| 57516/57516 [04:09<00:00, 230.19it/s]\n"
     ]
    },
    {
     "name": "stdout",
     "output_type": "stream",
     "text": [
      "Starting training epoch 5/5\n",
      "Learning rate: 0.0021629840831280498, Batch size: 64, Hidden dims: (32, 256), Kernel sizes: (13, 5), Activations: ('relu', 'sigmoid')\n"
     ]
    },
    {
     "name": "stderr",
     "output_type": "stream",
     "text": [
      "100%|██████████| 57516/57516 [04:08<00:00, 231.87it/s]\n",
      "[I 2025-06-09 11:22:39,527] Trial 18 finished with value: 0.048905473202466965 and parameters: {'hidden_dims': '32,256', 'kernel_sizes': '13,5', 'activations': 'relu,sigmoid', 'lr': 0.0021629840831280498, 'batch_size': 64}. Best is trial 13 with value: 0.002734301146119833.\n"
     ]
    },
    {
     "name": "stdout",
     "output_type": "stream",
     "text": [
      "Starting training epoch 1/5\n",
      "Learning rate: 0.0003938717341268774, Batch size: 32, Hidden dims: (128, 64), Kernel sizes: (11, 11), Activations: ('tanh', 'relu')\n"
     ]
    },
    {
     "name": "stderr",
     "output_type": "stream",
     "text": [
      "100%|██████████| 115031/115031 [06:39<00:00, 287.69it/s]\n"
     ]
    },
    {
     "name": "stdout",
     "output_type": "stream",
     "text": [
      "Starting training epoch 2/5\n",
      "Learning rate: 0.0003938717341268774, Batch size: 32, Hidden dims: (128, 64), Kernel sizes: (11, 11), Activations: ('tanh', 'relu')\n"
     ]
    },
    {
     "name": "stderr",
     "output_type": "stream",
     "text": [
      "100%|██████████| 115031/115031 [06:40<00:00, 286.99it/s]\n"
     ]
    },
    {
     "name": "stdout",
     "output_type": "stream",
     "text": [
      "Starting training epoch 3/5\n",
      "Learning rate: 0.0003938717341268774, Batch size: 32, Hidden dims: (128, 64), Kernel sizes: (11, 11), Activations: ('tanh', 'relu')\n"
     ]
    },
    {
     "name": "stderr",
     "output_type": "stream",
     "text": [
      "100%|██████████| 115031/115031 [06:47<00:00, 282.40it/s]\n"
     ]
    },
    {
     "name": "stdout",
     "output_type": "stream",
     "text": [
      "Starting training epoch 4/5\n",
      "Learning rate: 0.0003938717341268774, Batch size: 32, Hidden dims: (128, 64), Kernel sizes: (11, 11), Activations: ('tanh', 'relu')\n"
     ]
    },
    {
     "name": "stderr",
     "output_type": "stream",
     "text": [
      "100%|██████████| 115031/115031 [06:54<00:00, 277.41it/s]\n"
     ]
    },
    {
     "name": "stdout",
     "output_type": "stream",
     "text": [
      "Starting training epoch 5/5\n",
      "Learning rate: 0.0003938717341268774, Batch size: 32, Hidden dims: (128, 64), Kernel sizes: (11, 11), Activations: ('tanh', 'relu')\n"
     ]
    },
    {
     "name": "stderr",
     "output_type": "stream",
     "text": [
      "100%|██████████| 115031/115031 [06:46<00:00, 283.03it/s]\n",
      "[I 2025-06-09 11:56:28,751] Trial 19 finished with value: 0.06432613730430603 and parameters: {'hidden_dims': '128,64', 'kernel_sizes': '11,11', 'activations': 'tanh,relu', 'lr': 0.0003938717341268774, 'batch_size': 32}. Best is trial 13 with value: 0.002734301146119833.\n"
     ]
    },
    {
     "name": "stdout",
     "output_type": "stream",
     "text": [
      "Best params: {'hidden_dims': '32,64', 'kernel_sizes': '13,5', 'activations': 'relu,sigmoid', 'lr': 0.00538644174274093, 'batch_size': 16}\n"
     ]
    }
   ],
   "source": [
    "import optuna\n",
    "import warnings\n",
    "warnings.filterwarnings(\"ignore\")\n",
    "# Run Optuna hyperparameter search\n",
    "study = optuna.create_study(\n",
    "    study_name=\"CNN_Sequence_Rainfall_Prediction_v3\",\n",
    "    storage=\"sqlite:///optuna_study.db\",\n",
    "    load_if_exists=True,\n",
    "    direction=\"minimize\",\n",
    ")\n",
    "\n",
    "study.optimize(objective, n_trials=20)\n",
    "\n",
    "# Get the best config\n",
    "best_params = study.best_params\n",
    "print(f\"Best params: {best_params}\")\n"
   ]
  },
  {
   "cell_type": "code",
   "execution_count": null,
   "id": "f9680796",
   "metadata": {},
   "outputs": [
    {
     "ename": "AssertionError",
     "evalue": "hidden_dims and kernel_sizes must have the same length",
     "output_type": "error",
     "traceback": [
      "\u001b[31m---------------------------------------------------------------------------\u001b[39m",
      "\u001b[31mAssertionError\u001b[39m                            Traceback (most recent call last)",
      "\u001b[36mCell\u001b[39m\u001b[36m \u001b[39m\u001b[32mIn[8]\u001b[39m\u001b[32m, line 18\u001b[39m\n\u001b[32m     16\u001b[39m input_dim = sample_input.shape[-\u001b[32m1\u001b[39m]\n\u001b[32m     17\u001b[39m output_dim = sample_target.shape[-\u001b[32m1\u001b[39m]\n\u001b[32m---> \u001b[39m\u001b[32m18\u001b[39m best_model = \u001b[43mSequenceCNN\u001b[49m\u001b[43m(\u001b[49m\n\u001b[32m     19\u001b[39m \u001b[43m    \u001b[49m\u001b[43minput_dim\u001b[49m\u001b[43m=\u001b[49m\u001b[43minput_dim\u001b[49m\u001b[43m,\u001b[49m\n\u001b[32m     20\u001b[39m \u001b[43m    \u001b[49m\u001b[43mhidden_dims\u001b[49m\u001b[43m=\u001b[49m\u001b[38;5;28;43mlist\u001b[39;49m\u001b[43m(\u001b[49m\u001b[43mbest_params\u001b[49m\u001b[43m[\u001b[49m\u001b[33;43m'\u001b[39;49m\u001b[33;43mhidden_dims\u001b[39;49m\u001b[33;43m'\u001b[39;49m\u001b[43m]\u001b[49m\u001b[43m)\u001b[49m\u001b[43m,\u001b[49m\n\u001b[32m     21\u001b[39m \u001b[43m    \u001b[49m\u001b[43mkernel_sizes\u001b[49m\u001b[43m=\u001b[49m\u001b[38;5;28;43mlist\u001b[39;49m\u001b[43m(\u001b[49m\u001b[43mbest_params\u001b[49m\u001b[43m[\u001b[49m\u001b[33;43m'\u001b[39;49m\u001b[33;43mkernel_sizes\u001b[39;49m\u001b[33;43m'\u001b[39;49m\u001b[43m]\u001b[49m\u001b[43m)\u001b[49m\u001b[43m,\u001b[49m\n\u001b[32m     22\u001b[39m \u001b[43m    \u001b[49m\u001b[43moutput_dim\u001b[49m\u001b[43m=\u001b[49m\u001b[43moutput_dim\u001b[49m\u001b[43m,\u001b[49m\n\u001b[32m     23\u001b[39m \u001b[43m    \u001b[49m\u001b[43mactivations\u001b[49m\u001b[43m=\u001b[49m\u001b[43mactivations\u001b[49m\n\u001b[32m     24\u001b[39m \u001b[43m)\u001b[49m\n\u001b[32m     25\u001b[39m device = torch.device(\u001b[33m\"\u001b[39m\u001b[33mcuda\u001b[39m\u001b[33m\"\u001b[39m \u001b[38;5;28;01mif\u001b[39;00m torch.cuda.is_available() \u001b[38;5;28;01melse\u001b[39;00m \u001b[33m\"\u001b[39m\u001b[33mcpu\u001b[39m\u001b[33m\"\u001b[39m)\n\u001b[32m     26\u001b[39m best_model.to(device)\n",
      "\u001b[36mFile \u001b[39m\u001b[32mc:\\Users\\henri\\Documents\\Uni.lu\\Semester 6\\BSP6\\weather-chatbot\\forecasting_service_training\\CNN.py:17\u001b[39m, in \u001b[36mSequenceCNN.__init__\u001b[39m\u001b[34m(self, input_dim, hidden_dims, kernel_sizes, output_dim, activations)\u001b[39m\n\u001b[32m      8\u001b[39m \u001b[38;5;250m\u001b[39m\u001b[33;03m\"\"\"\u001b[39;00m\n\u001b[32m      9\u001b[39m \u001b[33;03mArgs:\u001b[39;00m\n\u001b[32m     10\u001b[39m \u001b[33;03m    input_dim (int): Number of input features.\u001b[39;00m\n\u001b[32m   (...)\u001b[39m\u001b[32m     14\u001b[39m \u001b[33;03m    activations (str or list of str): Activation function(s) for each layer.\u001b[39;00m\n\u001b[32m     15\u001b[39m \u001b[33;03m\"\"\"\u001b[39;00m\n\u001b[32m     16\u001b[39m \u001b[38;5;28msuper\u001b[39m(SequenceCNN, \u001b[38;5;28mself\u001b[39m).\u001b[34m__init__\u001b[39m()\n\u001b[32m---> \u001b[39m\u001b[32m17\u001b[39m \u001b[38;5;28;01massert\u001b[39;00m \u001b[38;5;28mlen\u001b[39m(hidden_dims) == \u001b[38;5;28mlen\u001b[39m(kernel_sizes), \u001b[33m\"\u001b[39m\u001b[33mhidden_dims and kernel_sizes must have the same length\u001b[39m\u001b[33m\"\u001b[39m\n\u001b[32m     19\u001b[39m \u001b[38;5;66;03m# Map string to activation function\u001b[39;00m\n\u001b[32m     20\u001b[39m activations_map = {\n\u001b[32m     21\u001b[39m     \u001b[33m'\u001b[39m\u001b[33mrelu\u001b[39m\u001b[33m'\u001b[39m: torch.nn.ReLU,\n\u001b[32m     22\u001b[39m     \u001b[33m'\u001b[39m\u001b[33mtanh\u001b[39m\u001b[33m'\u001b[39m: torch.nn.Tanh,\n\u001b[32m   (...)\u001b[39m\u001b[32m     28\u001b[39m     \u001b[33m'\u001b[39m\u001b[33mnone\u001b[39m\u001b[33m'\u001b[39m: nn.Identity\n\u001b[32m     29\u001b[39m }\n",
      "\u001b[31mAssertionError\u001b[39m: hidden_dims and kernel_sizes must have the same length"
     ]
    }
   ],
   "source": [
    "activations_map = {\n",
    "    'relu': torch.nn.ReLU(),\n",
    "    'tanh': torch.nn.Tanh(),\n",
    "    'sigmoid': torch.nn.Sigmoid(),\n",
    "    'leaky_relu': torch.nn.LeakyReLU(),\n",
    "    'elu': torch.nn.ELU(),\n",
    "    'gelu': torch.nn.GELU(),\n",
    "    'selu': torch.nn.SELU(),\n",
    "    'none': nn.Identity()\n",
    "}\n",
    "# Prepare activations\n",
    "activations = [activations_map[act] for act in best_params['activations'].split(',')]\n",
    "\n",
    "# Build and train the best model on the full training set\n",
    "sample_input, sample_target = dataset[0]\n",
    "input_dim = sample_input.shape[-1]\n",
    "output_dim = sample_target.shape[-1]\n",
    "best_model = SequenceCNN(\n",
    "    input_dim=input_dim,\n",
    "    hidden_dims=list(best_params['hidden_dims']),\n",
    "    kernel_sizes=list(best_params['kernel_sizes']),\n",
    "    output_dim=output_dim,\n",
    "    activations=activations\n",
    ")\n",
    "device = torch.device(\"cuda\" if torch.cuda.is_available() else \"cpu\")\n",
    "best_model.to(device)\n",
    "\n",
    "optimizer = optim.Adam(best_model.parameters(), lr=best_params['lr'])\n",
    "criterion = nn.MSELoss()\n",
    "\n",
    "# Use the full train_loader for training\n",
    "num_epochs = 5\n",
    "for epoch in range(num_epochs):\n",
    "    best_model.train()\n",
    "    for batch in train_loader:\n",
    "        inputs, targets = batch\n",
    "        inputs, targets = inputs.to(device), targets.to(device)\n",
    "        optimizer.zero_grad()\n",
    "        outputs = best_model(inputs)\n",
    "        loss = criterion(outputs, targets)\n",
    "        loss.backward()\n",
    "        optimizer.step()\n",
    "\n",
    "# Evaluate on the test set\n",
    "best_model.eval()\n",
    "test_loss = 0.0\n",
    "with torch.no_grad():\n",
    "    for inputs, targets in test_loader:\n",
    "        inputs, targets = inputs.to(device), targets.to(device)\n",
    "        outputs = best_model(inputs)\n",
    "        loss = criterion(outputs, targets)\n",
    "        test_loss += loss.item() * inputs.size(0)\n",
    "test_loss /= len(test_loader.dataset)\n",
    "print(f\"Test loss: {test_loss}\")\n"
   ]
  },
  {
   "cell_type": "code",
   "execution_count": null,
   "id": "91377463",
   "metadata": {},
   "outputs": [],
   "source": [
    "# Save the best model\n",
    "model_path = Path(\"best_cnn_model.pth\")\n",
    "torch.save(best_model.state_dict(), model_path)\n",
    "print(f\"Best model saved to {model_path}\")\n"
   ]
  }
 ],
 "metadata": {
  "kernelspec": {
   "display_name": "Python 3",
   "language": "python",
   "name": "python3"
  },
  "language_info": {
   "codemirror_mode": {
    "name": "ipython",
    "version": 3
   },
   "file_extension": ".py",
   "mimetype": "text/x-python",
   "name": "python",
   "nbconvert_exporter": "python",
   "pygments_lexer": "ipython3",
   "version": "3.13.2"
  }
 },
 "nbformat": 4,
 "nbformat_minor": 5
}
