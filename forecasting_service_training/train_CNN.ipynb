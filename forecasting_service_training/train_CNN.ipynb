{
 "cells": [
  {
   "cell_type": "markdown",
   "id": "ad53d40f",
   "metadata": {},
   "source": [
    "# Training the CNN for temperature prediction\n"
   ]
  },
  {
   "cell_type": "markdown",
   "id": "107ba693",
   "metadata": {},
   "source": []
  },
  {
   "cell_type": "code",
   "execution_count": null,
   "id": "f1263e7d",
   "metadata": {},
   "outputs": [],
   "source": [
    "\n",
    "import os\n",
    "from CNN import SequenceCNN\n",
    "from torch.utils.data import DataLoader as TorchDataLoader"
   ]
  },
  {
   "cell_type": "code",
   "execution_count": 2,
   "id": "b9f14416",
   "metadata": {},
   "outputs": [],
   "source": [
    "import torch\n",
    "from torch.optim import lr_scheduler\n",
    "\n",
    "import torch.optim as optim\n",
    "import torch.nn as nn\n",
    "from TemperatureDataset import TemperatureDataset\n",
    "from functools import partial\n",
    "import os\n",
    "import tempfile\n",
    "from pathlib import Path\n",
    "import torch\n",
    "import torch.nn as nn\n",
    "import torch.nn.functional as F\n",
    "import torch.optim as optim\n",
    "from torch.utils.data import random_split\n",
    "import torchvision\n",
    "import torchvision.transforms as transforms"
   ]
  },
  {
   "cell_type": "code",
   "execution_count": 3,
   "id": "479daad3",
   "metadata": {},
   "outputs": [
    {
     "name": "stderr",
     "output_type": "stream",
     "text": [
      "100%|██████████| 562/562 [00:38<00:00, 14.47it/s]\n"
     ]
    }
   ],
   "source": [
    "dataset = TemperatureDataset('data_temp_max', 'data_temp_min')"
   ]
  },
  {
   "cell_type": "code",
   "execution_count": 4,
   "id": "1f502d3d",
   "metadata": {},
   "outputs": [
    {
     "name": "stderr",
     "output_type": "stream",
     "text": [
      "c:\\Users\\henri\\AppData\\Local\\Programs\\Python\\Python313\\Lib\\site-packages\\tqdm\\auto.py:21: TqdmWarning: IProgress not found. Please update jupyter and ipywidgets. See https://ipywidgets.readthedocs.io/en/stable/user_install.html\n",
      "  from .autonotebook import tqdm as notebook_tqdm\n"
     ]
    }
   ],
   "source": [
    "import optuna\n",
    "from tqdm import tqdm\n",
    "\n",
    "def objective(trial):\n",
    "    # Remove activations_map from here, since it is already defined and used in cell 8.\n",
    "    # Also, do not redefine batch_size or train_loader, as they are already defined globally.\n",
    "    # You can remove this placeholder entirely.\n",
    "\n",
    "    # Use strings to represent tuples for Optuna compatibility\n",
    "    hidden_dims_options = [\"32,32\", \"32,64\", \"64,64\", \"64,32\", \"32,128\", \"128,32\",\"64,128\",\"128,64\", \"128,128\", \"64,128\", \"32,256\", \"128,256\", \"256,256\"]\n",
    "    kernel_sizes_options = [\"3,3\", \"5,3\", \"3,5\", \"5,5\"]\n",
    "    # Define activations_options outside the objective function to avoid dynamic value space error\n",
    "    activations_options = [\"relu,relu\", \"tanh,relu\", \"leaky_relu,sigmoid\", \"sigmoid,tanh\", \"relu,sigmoid\", \"tanh,tanh\", \"leaky_relu,leaky_relu\", \"tanh,leaky_relu\", \"relu,leaky_relu\", \"sigmoid,sigmoid\", \"sigmoid,leaky_relu\", \"relu,tanh\", \"tanh,relu\", \"leaky_relu,relu\", \"selu,leaky_relu\"]\n",
    "    hidden_dims_str = trial.suggest_categorical(\"hidden_dims\", hidden_dims_options)\n",
    "    kernel_sizes_str = trial.suggest_categorical(\"kernel_sizes\", kernel_sizes_options)\n",
    "    activations_str = trial.suggest_categorical(\"activations\", activations_options)\n",
    "\n",
    "    hidden_dims = tuple(map(int, hidden_dims_str.split(',')))\n",
    "    kernel_sizes = tuple(map(int, kernel_sizes_str.split(',')))\n",
    "    activations = tuple(activations_str.split(','))\n",
    "\n",
    "    lr = trial.suggest_loguniform(\"lr\", 1e-4, 1e-2)\n",
    "    batch_size = trial.suggest_categorical(\"batch_size\", (16, 32, 64))\n",
    "    num_epochs = 5\n",
    "    sample_input, sample_target = dataset[0]\n",
    "    input_dim = sample_input.shape[-1]\n",
    "    output_dim = sample_target.shape[-1]\n",
    "\n",
    "\n",
    "    model = SequenceCNN(\n",
    "        input_dim=input_dim,\n",
    "        hidden_dims=list(hidden_dims),\n",
    "        kernel_sizes=list(kernel_sizes),\n",
    "        output_dim=output_dim,\n",
    "        activations=activations\n",
    "    )\n",
    "    device = torch.device(\"cuda\" if torch.cuda.is_available() else \"cpu\")\n",
    "    model.to(device)\n",
    "\n",
    "    optimizer = optim.Adam(model.parameters(), lr=lr)\n",
    "    criterion = nn.MSELoss()\n",
    "\n",
    "    train_loader = TorchDataLoader(dataset, batch_size=batch_size, shuffle=True)\n",
    "\n",
    "    for epoch in range(num_epochs):\n",
    "        print(f\"Starting training epoch {epoch + 1}/{num_epochs}\")\n",
    "        print(f\"Learning rate: {lr}, Batch size: {batch_size}, Hidden dims: {hidden_dims}, Kernel sizes: {kernel_sizes}, Activations: {activations}\")\n",
    "        model.train()\n",
    "        for batch in tqdm(train_loader):\n",
    "            inputs, targets = batch\n",
    "            inputs, targets = inputs.to(device), targets.to(device)\n",
    "\n",
    "            optimizer.zero_grad()\n",
    "            outputs = model(inputs)\n",
    "            loss = criterion(outputs, targets)\n",
    "            loss.backward()\n",
    "            optimizer.step()\n",
    "\n",
    "    return loss.item()\n",
    "\n",
    "# Example usage:\n",
    "# study = optuna.create_study(direction=\"minimize\")\n",
    "# study.optimize(objective, n_trials=10)"
   ]
  },
  {
   "cell_type": "code",
   "execution_count": 5,
   "id": "d440f171",
   "metadata": {},
   "outputs": [],
   "source": [
    "# Split the dataset into train, validation, and test sets\n",
    "train_size = int(0.7 * len(dataset))\n",
    "val_size = int(0.15 * len(dataset))\n",
    "test_size = len(dataset) - train_size - val_size\n",
    "\n",
    "train_dataset, val_dataset, test_dataset = random_split(dataset, [train_size, val_size, test_size])\n",
    "\n",
    "# Create DataLoaders for each set\n",
    "batch_size = 32  # You can adjust this as needed\n",
    "\n",
    "train_loader = TorchDataLoader(train_dataset, batch_size=batch_size, shuffle=True)\n",
    "val_loader = TorchDataLoader(val_dataset, batch_size=batch_size, shuffle=False)\n",
    "test_loader = TorchDataLoader(test_dataset, batch_size=batch_size, shuffle=False)"
   ]
  },
  {
   "cell_type": "code",
   "execution_count": 6,
   "id": "8c668d3f",
   "metadata": {},
   "outputs": [
    {
     "name": "stdout",
     "output_type": "stream",
     "text": [
      "CUDA available: True\n",
      "CUDA device count: 1\n",
      "Current device: 0\n",
      "Device name: NVIDIA GeForce RTX 3060 Laptop GPU\n"
     ]
    }
   ],
   "source": [
    "import torch\n",
    "print(\"CUDA available:\", torch.cuda.is_available())\n",
    "if torch.cuda.is_available():\n",
    "    print(\"CUDA device count:\", torch.cuda.device_count())\n",
    "    print(\"Current device:\", torch.cuda.current_device())\n",
    "    print(\"Device name:\", torch.cuda.get_device_name(torch.cuda.current_device()))\n",
    "else:\n",
    "    print(\"Using CPU\")"
   ]
  },
  {
   "cell_type": "code",
   "execution_count": null,
   "id": "50c6910f",
   "metadata": {},
   "outputs": [
    {
     "name": "stderr",
     "output_type": "stream",
     "text": [
      "[I 2025-06-07 15:21:18,513] A new study created in RDB with name: CNN_Sequence_Optimization_2\n"
     ]
    },
    {
     "name": "stdout",
     "output_type": "stream",
     "text": [
      "Starting training epoch 1/5\n",
      "Learning rate: 0.0005588459736553247, Batch size: 64, Hidden dims: (256, 256), Kernel sizes: (5, 3), Activations: ('sigmoid', 'tanh')\n"
     ]
    },
    {
     "name": "stderr",
     "output_type": "stream",
     "text": [
      "100%|██████████| 57516/57516 [03:02<00:00, 315.11it/s]\n"
     ]
    },
    {
     "name": "stdout",
     "output_type": "stream",
     "text": [
      "Starting training epoch 2/5\n",
      "Learning rate: 0.0005588459736553247, Batch size: 64, Hidden dims: (256, 256), Kernel sizes: (5, 3), Activations: ('sigmoid', 'tanh')\n"
     ]
    },
    {
     "name": "stderr",
     "output_type": "stream",
     "text": [
      "100%|██████████| 57516/57516 [03:03<00:00, 312.76it/s]\n"
     ]
    },
    {
     "name": "stdout",
     "output_type": "stream",
     "text": [
      "Starting training epoch 3/5\n",
      "Learning rate: 0.0005588459736553247, Batch size: 64, Hidden dims: (256, 256), Kernel sizes: (5, 3), Activations: ('sigmoid', 'tanh')\n"
     ]
    },
    {
     "name": "stderr",
     "output_type": "stream",
     "text": [
      "100%|██████████| 57516/57516 [04:00<00:00, 238.96it/s]\n"
     ]
    },
    {
     "name": "stdout",
     "output_type": "stream",
     "text": [
      "Starting training epoch 4/5\n",
      "Learning rate: 0.0005588459736553247, Batch size: 64, Hidden dims: (256, 256), Kernel sizes: (5, 3), Activations: ('sigmoid', 'tanh')\n"
     ]
    },
    {
     "name": "stderr",
     "output_type": "stream",
     "text": [
      "100%|██████████| 57516/57516 [04:01<00:00, 237.90it/s]\n"
     ]
    },
    {
     "name": "stdout",
     "output_type": "stream",
     "text": [
      "Starting training epoch 5/5\n",
      "Learning rate: 0.0005588459736553247, Batch size: 64, Hidden dims: (256, 256), Kernel sizes: (5, 3), Activations: ('sigmoid', 'tanh')\n"
     ]
    },
    {
     "name": "stderr",
     "output_type": "stream",
     "text": [
      "100%|██████████| 57516/57516 [04:00<00:00, 238.77it/s]\n",
      "[I 2025-06-07 15:39:28,492] Trial 0 finished with value: 0.034969452768564224 and parameters: {'hidden_dims': '256,256', 'kernel_sizes': '5,3', 'activations': 'sigmoid,tanh', 'lr': 0.0005588459736553247, 'batch_size': 64}. Best is trial 0 with value: 0.034969452768564224.\n"
     ]
    },
    {
     "name": "stdout",
     "output_type": "stream",
     "text": [
      "Starting training epoch 1/5\n",
      "Learning rate: 0.0002533781619525396, Batch size: 16, Hidden dims: (64, 128), Kernel sizes: (3, 5), Activations: ('relu', 'relu')\n"
     ]
    },
    {
     "name": "stderr",
     "output_type": "stream",
     "text": [
      "100%|██████████| 230062/230062 [11:43<00:00, 327.06it/s]\n"
     ]
    },
    {
     "name": "stdout",
     "output_type": "stream",
     "text": [
      "Starting training epoch 2/5\n",
      "Learning rate: 0.0002533781619525396, Batch size: 16, Hidden dims: (64, 128), Kernel sizes: (3, 5), Activations: ('relu', 'relu')\n"
     ]
    },
    {
     "name": "stderr",
     "output_type": "stream",
     "text": [
      "100%|██████████| 230062/230062 [11:30<00:00, 332.97it/s]\n"
     ]
    },
    {
     "name": "stdout",
     "output_type": "stream",
     "text": [
      "Starting training epoch 3/5\n",
      "Learning rate: 0.0002533781619525396, Batch size: 16, Hidden dims: (64, 128), Kernel sizes: (3, 5), Activations: ('relu', 'relu')\n"
     ]
    },
    {
     "name": "stderr",
     "output_type": "stream",
     "text": [
      "100%|██████████| 230062/230062 [11:33<00:00, 331.95it/s]\n"
     ]
    },
    {
     "name": "stdout",
     "output_type": "stream",
     "text": [
      "Starting training epoch 4/5\n",
      "Learning rate: 0.0002533781619525396, Batch size: 16, Hidden dims: (64, 128), Kernel sizes: (3, 5), Activations: ('relu', 'relu')\n"
     ]
    },
    {
     "name": "stderr",
     "output_type": "stream",
     "text": [
      "100%|██████████| 230062/230062 [11:34<00:00, 331.16it/s]\n"
     ]
    },
    {
     "name": "stdout",
     "output_type": "stream",
     "text": [
      "Starting training epoch 5/5\n",
      "Learning rate: 0.0002533781619525396, Batch size: 16, Hidden dims: (64, 128), Kernel sizes: (3, 5), Activations: ('relu', 'relu')\n"
     ]
    },
    {
     "name": "stderr",
     "output_type": "stream",
     "text": [
      "100%|██████████| 230062/230062 [11:33<00:00, 331.92it/s]\n",
      "[I 2025-06-07 16:37:23,884] Trial 1 finished with value: 0.03392700105905533 and parameters: {'hidden_dims': '64,128', 'kernel_sizes': '3,5', 'activations': 'relu,relu', 'lr': 0.0002533781619525396, 'batch_size': 16}. Best is trial 1 with value: 0.03392700105905533.\n"
     ]
    },
    {
     "name": "stdout",
     "output_type": "stream",
     "text": [
      "Starting training epoch 1/5\n",
      "Learning rate: 0.0008419932787618491, Batch size: 16, Hidden dims: (128, 256), Kernel sizes: (5, 5), Activations: ('leaky_relu', 'relu')\n"
     ]
    },
    {
     "name": "stderr",
     "output_type": "stream",
     "text": [
      "100%|██████████| 230062/230062 [11:16<00:00, 340.07it/s]\n"
     ]
    },
    {
     "name": "stdout",
     "output_type": "stream",
     "text": [
      "Starting training epoch 2/5\n",
      "Learning rate: 0.0008419932787618491, Batch size: 16, Hidden dims: (128, 256), Kernel sizes: (5, 5), Activations: ('leaky_relu', 'relu')\n"
     ]
    },
    {
     "name": "stderr",
     "output_type": "stream",
     "text": [
      "100%|██████████| 230062/230062 [11:34<00:00, 331.08it/s]\n"
     ]
    },
    {
     "name": "stdout",
     "output_type": "stream",
     "text": [
      "Starting training epoch 3/5\n",
      "Learning rate: 0.0008419932787618491, Batch size: 16, Hidden dims: (128, 256), Kernel sizes: (5, 5), Activations: ('leaky_relu', 'relu')\n"
     ]
    },
    {
     "name": "stderr",
     "output_type": "stream",
     "text": [
      "100%|██████████| 230062/230062 [10:21<00:00, 370.06it/s]\n"
     ]
    },
    {
     "name": "stdout",
     "output_type": "stream",
     "text": [
      "Starting training epoch 4/5\n",
      "Learning rate: 0.0008419932787618491, Batch size: 16, Hidden dims: (128, 256), Kernel sizes: (5, 5), Activations: ('leaky_relu', 'relu')\n"
     ]
    },
    {
     "name": "stderr",
     "output_type": "stream",
     "text": [
      "100%|██████████| 230062/230062 [11:26<00:00, 334.96it/s]\n"
     ]
    },
    {
     "name": "stdout",
     "output_type": "stream",
     "text": [
      "Starting training epoch 5/5\n",
      "Learning rate: 0.0008419932787618491, Batch size: 16, Hidden dims: (128, 256), Kernel sizes: (5, 5), Activations: ('leaky_relu', 'relu')\n"
     ]
    },
    {
     "name": "stderr",
     "output_type": "stream",
     "text": [
      "100%|██████████| 230062/230062 [11:33<00:00, 331.81it/s]\n",
      "[I 2025-06-07 17:33:37,325] Trial 2 finished with value: 0.01977844163775444 and parameters: {'hidden_dims': '128,256', 'kernel_sizes': '5,5', 'activations': 'leaky_relu,relu', 'lr': 0.0008419932787618491, 'batch_size': 16}. Best is trial 2 with value: 0.01977844163775444.\n"
     ]
    },
    {
     "name": "stdout",
     "output_type": "stream",
     "text": [
      "Starting training epoch 1/5\n",
      "Learning rate: 0.000310251453194837, Batch size: 64, Hidden dims: (128, 256), Kernel sizes: (3, 3), Activations: ('sigmoid', 'tanh')\n"
     ]
    },
    {
     "name": "stderr",
     "output_type": "stream",
     "text": [
      "100%|██████████| 57516/57516 [03:58<00:00, 241.63it/s]\n"
     ]
    },
    {
     "name": "stdout",
     "output_type": "stream",
     "text": [
      "Starting training epoch 2/5\n",
      "Learning rate: 0.000310251453194837, Batch size: 64, Hidden dims: (128, 256), Kernel sizes: (3, 3), Activations: ('sigmoid', 'tanh')\n"
     ]
    },
    {
     "name": "stderr",
     "output_type": "stream",
     "text": [
      "100%|██████████| 57516/57516 [03:55<00:00, 244.51it/s]\n"
     ]
    },
    {
     "name": "stdout",
     "output_type": "stream",
     "text": [
      "Starting training epoch 3/5\n",
      "Learning rate: 0.000310251453194837, Batch size: 64, Hidden dims: (128, 256), Kernel sizes: (3, 3), Activations: ('sigmoid', 'tanh')\n"
     ]
    },
    {
     "name": "stderr",
     "output_type": "stream",
     "text": [
      "100%|██████████| 57516/57516 [04:04<00:00, 235.66it/s]\n"
     ]
    },
    {
     "name": "stdout",
     "output_type": "stream",
     "text": [
      "Starting training epoch 4/5\n",
      "Learning rate: 0.000310251453194837, Batch size: 64, Hidden dims: (128, 256), Kernel sizes: (3, 3), Activations: ('sigmoid', 'tanh')\n"
     ]
    },
    {
     "name": "stderr",
     "output_type": "stream",
     "text": [
      "100%|██████████| 57516/57516 [04:11<00:00, 229.00it/s]\n"
     ]
    },
    {
     "name": "stdout",
     "output_type": "stream",
     "text": [
      "Starting training epoch 5/5\n",
      "Learning rate: 0.000310251453194837, Batch size: 64, Hidden dims: (128, 256), Kernel sizes: (3, 3), Activations: ('sigmoid', 'tanh')\n"
     ]
    },
    {
     "name": "stderr",
     "output_type": "stream",
     "text": [
      "100%|██████████| 57516/57516 [04:04<00:00, 235.02it/s]\n",
      "[I 2025-06-07 17:53:50,701] Trial 3 finished with value: 0.03047015517950058 and parameters: {'hidden_dims': '128,256', 'kernel_sizes': '3,3', 'activations': 'sigmoid,tanh', 'lr': 0.000310251453194837, 'batch_size': 64}. Best is trial 2 with value: 0.01977844163775444.\n"
     ]
    },
    {
     "name": "stdout",
     "output_type": "stream",
     "text": [
      "Starting training epoch 1/5\n",
      "Learning rate: 0.0005776183446882358, Batch size: 32, Hidden dims: (128, 128), Kernel sizes: (5, 3), Activations: ('sigmoid', 'tanh')\n"
     ]
    },
    {
     "name": "stderr",
     "output_type": "stream",
     "text": [
      "100%|██████████| 115031/115031 [06:49<00:00, 281.16it/s]\n"
     ]
    },
    {
     "name": "stdout",
     "output_type": "stream",
     "text": [
      "Starting training epoch 2/5\n",
      "Learning rate: 0.0005776183446882358, Batch size: 32, Hidden dims: (128, 128), Kernel sizes: (5, 3), Activations: ('sigmoid', 'tanh')\n"
     ]
    },
    {
     "name": "stderr",
     "output_type": "stream",
     "text": [
      "100%|██████████| 115031/115031 [06:44<00:00, 284.48it/s]\n"
     ]
    },
    {
     "name": "stdout",
     "output_type": "stream",
     "text": [
      "Starting training epoch 3/5\n",
      "Learning rate: 0.0005776183446882358, Batch size: 32, Hidden dims: (128, 128), Kernel sizes: (5, 3), Activations: ('sigmoid', 'tanh')\n"
     ]
    },
    {
     "name": "stderr",
     "output_type": "stream",
     "text": [
      "100%|██████████| 115031/115031 [06:21<00:00, 301.27it/s]\n"
     ]
    },
    {
     "name": "stdout",
     "output_type": "stream",
     "text": [
      "Starting training epoch 4/5\n",
      "Learning rate: 0.0005776183446882358, Batch size: 32, Hidden dims: (128, 128), Kernel sizes: (5, 3), Activations: ('sigmoid', 'tanh')\n"
     ]
    },
    {
     "name": "stderr",
     "output_type": "stream",
     "text": [
      "100%|██████████| 115031/115031 [06:28<00:00, 296.33it/s]\n"
     ]
    },
    {
     "name": "stdout",
     "output_type": "stream",
     "text": [
      "Starting training epoch 5/5\n",
      "Learning rate: 0.0005776183446882358, Batch size: 32, Hidden dims: (128, 128), Kernel sizes: (5, 3), Activations: ('sigmoid', 'tanh')\n"
     ]
    },
    {
     "name": "stderr",
     "output_type": "stream",
     "text": [
      "100%|██████████| 115031/115031 [06:23<00:00, 300.09it/s]\n",
      "[I 2025-06-07 18:26:37,659] Trial 4 finished with value: 0.03172144666314125 and parameters: {'hidden_dims': '128,128', 'kernel_sizes': '5,3', 'activations': 'sigmoid,tanh', 'lr': 0.0005776183446882358, 'batch_size': 32}. Best is trial 2 with value: 0.01977844163775444.\n"
     ]
    },
    {
     "name": "stdout",
     "output_type": "stream",
     "text": [
      "Starting training epoch 1/5\n",
      "Learning rate: 0.00026688234430782755, Batch size: 64, Hidden dims: (128, 32), Kernel sizes: (5, 3), Activations: ('selu', 'leaky_relu')\n"
     ]
    },
    {
     "name": "stderr",
     "output_type": "stream",
     "text": [
      "100%|██████████| 57516/57516 [03:58<00:00, 240.89it/s]\n"
     ]
    },
    {
     "name": "stdout",
     "output_type": "stream",
     "text": [
      "Starting training epoch 2/5\n",
      "Learning rate: 0.00026688234430782755, Batch size: 64, Hidden dims: (128, 32), Kernel sizes: (5, 3), Activations: ('selu', 'leaky_relu')\n"
     ]
    },
    {
     "name": "stderr",
     "output_type": "stream",
     "text": [
      "100%|██████████| 57516/57516 [03:51<00:00, 248.56it/s]\n"
     ]
    },
    {
     "name": "stdout",
     "output_type": "stream",
     "text": [
      "Starting training epoch 3/5\n",
      "Learning rate: 0.00026688234430782755, Batch size: 64, Hidden dims: (128, 32), Kernel sizes: (5, 3), Activations: ('selu', 'leaky_relu')\n"
     ]
    },
    {
     "name": "stderr",
     "output_type": "stream",
     "text": [
      "100%|██████████| 57516/57516 [03:52<00:00, 247.82it/s]\n"
     ]
    },
    {
     "name": "stdout",
     "output_type": "stream",
     "text": [
      "Starting training epoch 4/5\n",
      "Learning rate: 0.00026688234430782755, Batch size: 64, Hidden dims: (128, 32), Kernel sizes: (5, 3), Activations: ('selu', 'leaky_relu')\n"
     ]
    },
    {
     "name": "stderr",
     "output_type": "stream",
     "text": [
      "100%|██████████| 57516/57516 [03:54<00:00, 245.67it/s]\n"
     ]
    },
    {
     "name": "stdout",
     "output_type": "stream",
     "text": [
      "Starting training epoch 5/5\n",
      "Learning rate: 0.00026688234430782755, Batch size: 64, Hidden dims: (128, 32), Kernel sizes: (5, 3), Activations: ('selu', 'leaky_relu')\n"
     ]
    },
    {
     "name": "stderr",
     "output_type": "stream",
     "text": [
      "100%|██████████| 57516/57516 [03:52<00:00, 247.47it/s]\n",
      "[I 2025-06-07 18:46:06,610] Trial 5 finished with value: 0.023979168385267258 and parameters: {'hidden_dims': '128,32', 'kernel_sizes': '5,3', 'activations': 'selu,leaky_relu', 'lr': 0.00026688234430782755, 'batch_size': 64}. Best is trial 2 with value: 0.01977844163775444.\n"
     ]
    },
    {
     "name": "stdout",
     "output_type": "stream",
     "text": [
      "Starting training epoch 1/5\n",
      "Learning rate: 0.00019626338583202363, Batch size: 16, Hidden dims: (64, 128), Kernel sizes: (3, 3), Activations: ('tanh', 'relu')\n"
     ]
    },
    {
     "name": "stderr",
     "output_type": "stream",
     "text": [
      "100%|██████████| 230062/230062 [10:58<00:00, 349.32it/s]\n"
     ]
    },
    {
     "name": "stdout",
     "output_type": "stream",
     "text": [
      "Starting training epoch 2/5\n",
      "Learning rate: 0.00019626338583202363, Batch size: 16, Hidden dims: (64, 128), Kernel sizes: (3, 3), Activations: ('tanh', 'relu')\n"
     ]
    },
    {
     "name": "stderr",
     "output_type": "stream",
     "text": [
      "100%|██████████| 230062/230062 [11:00<00:00, 348.55it/s]\n"
     ]
    },
    {
     "name": "stdout",
     "output_type": "stream",
     "text": [
      "Starting training epoch 3/5\n",
      "Learning rate: 0.00019626338583202363, Batch size: 16, Hidden dims: (64, 128), Kernel sizes: (3, 3), Activations: ('tanh', 'relu')\n"
     ]
    },
    {
     "name": "stderr",
     "output_type": "stream",
     "text": [
      "100%|██████████| 230062/230062 [10:53<00:00, 351.92it/s]\n"
     ]
    },
    {
     "name": "stdout",
     "output_type": "stream",
     "text": [
      "Starting training epoch 4/5\n",
      "Learning rate: 0.00019626338583202363, Batch size: 16, Hidden dims: (64, 128), Kernel sizes: (3, 3), Activations: ('tanh', 'relu')\n"
     ]
    },
    {
     "name": "stderr",
     "output_type": "stream",
     "text": [
      "100%|██████████| 230062/230062 [11:18<00:00, 339.22it/s]\n"
     ]
    },
    {
     "name": "stdout",
     "output_type": "stream",
     "text": [
      "Starting training epoch 5/5\n",
      "Learning rate: 0.00019626338583202363, Batch size: 16, Hidden dims: (64, 128), Kernel sizes: (3, 3), Activations: ('tanh', 'relu')\n"
     ]
    },
    {
     "name": "stderr",
     "output_type": "stream",
     "text": [
      "100%|██████████| 230062/230062 [11:26<00:00, 334.89it/s]\n",
      "[I 2025-06-07 19:41:44,293] Trial 6 finished with value: 0.029518207535147667 and parameters: {'hidden_dims': '64,128', 'kernel_sizes': '3,3', 'activations': 'tanh,relu', 'lr': 0.00019626338583202363, 'batch_size': 16}. Best is trial 2 with value: 0.01977844163775444.\n"
     ]
    },
    {
     "name": "stdout",
     "output_type": "stream",
     "text": [
      "Starting training epoch 1/5\n",
      "Learning rate: 0.0018391986686781537, Batch size: 64, Hidden dims: (128, 256), Kernel sizes: (3, 3), Activations: ('sigmoid', 'sigmoid')\n"
     ]
    },
    {
     "name": "stderr",
     "output_type": "stream",
     "text": [
      "100%|██████████| 57516/57516 [03:59<00:00, 240.55it/s]\n"
     ]
    },
    {
     "name": "stdout",
     "output_type": "stream",
     "text": [
      "Starting training epoch 2/5\n",
      "Learning rate: 0.0018391986686781537, Batch size: 64, Hidden dims: (128, 256), Kernel sizes: (3, 3), Activations: ('sigmoid', 'sigmoid')\n"
     ]
    },
    {
     "name": "stderr",
     "output_type": "stream",
     "text": [
      "100%|██████████| 57516/57516 [03:57<00:00, 241.69it/s]\n"
     ]
    },
    {
     "name": "stdout",
     "output_type": "stream",
     "text": [
      "Starting training epoch 3/5\n",
      "Learning rate: 0.0018391986686781537, Batch size: 64, Hidden dims: (128, 256), Kernel sizes: (3, 3), Activations: ('sigmoid', 'sigmoid')\n"
     ]
    },
    {
     "name": "stderr",
     "output_type": "stream",
     "text": [
      "100%|██████████| 57516/57516 [04:03<00:00, 236.50it/s]\n"
     ]
    },
    {
     "name": "stdout",
     "output_type": "stream",
     "text": [
      "Starting training epoch 4/5\n",
      "Learning rate: 0.0018391986686781537, Batch size: 64, Hidden dims: (128, 256), Kernel sizes: (3, 3), Activations: ('sigmoid', 'sigmoid')\n"
     ]
    },
    {
     "name": "stderr",
     "output_type": "stream",
     "text": [
      "100%|██████████| 57516/57516 [04:04<00:00, 235.13it/s]\n"
     ]
    },
    {
     "name": "stdout",
     "output_type": "stream",
     "text": [
      "Starting training epoch 5/5\n",
      "Learning rate: 0.0018391986686781537, Batch size: 64, Hidden dims: (128, 256), Kernel sizes: (3, 3), Activations: ('sigmoid', 'sigmoid')\n"
     ]
    },
    {
     "name": "stderr",
     "output_type": "stream",
     "text": [
      "100%|██████████| 57516/57516 [04:11<00:00, 229.07it/s]\n",
      "[I 2025-06-07 20:02:00,416] Trial 7 finished with value: 0.029941808432340622 and parameters: {'hidden_dims': '128,256', 'kernel_sizes': '3,3', 'activations': 'sigmoid,sigmoid', 'lr': 0.0018391986686781537, 'batch_size': 64}. Best is trial 2 with value: 0.01977844163775444.\n"
     ]
    },
    {
     "name": "stdout",
     "output_type": "stream",
     "text": [
      "Starting training epoch 1/5\n",
      "Learning rate: 0.0051066757961476545, Batch size: 64, Hidden dims: (128, 256), Kernel sizes: (5, 3), Activations: ('tanh', 'tanh')\n"
     ]
    },
    {
     "name": "stderr",
     "output_type": "stream",
     "text": [
      "100%|██████████| 57516/57516 [04:03<00:00, 235.73it/s]\n"
     ]
    },
    {
     "name": "stdout",
     "output_type": "stream",
     "text": [
      "Starting training epoch 2/5\n",
      "Learning rate: 0.0051066757961476545, Batch size: 64, Hidden dims: (128, 256), Kernel sizes: (5, 3), Activations: ('tanh', 'tanh')\n"
     ]
    },
    {
     "name": "stderr",
     "output_type": "stream",
     "text": [
      "100%|██████████| 57516/57516 [04:05<00:00, 234.36it/s]\n"
     ]
    },
    {
     "name": "stdout",
     "output_type": "stream",
     "text": [
      "Starting training epoch 3/5\n",
      "Learning rate: 0.0051066757961476545, Batch size: 64, Hidden dims: (128, 256), Kernel sizes: (5, 3), Activations: ('tanh', 'tanh')\n"
     ]
    },
    {
     "name": "stderr",
     "output_type": "stream",
     "text": [
      "100%|██████████| 57516/57516 [04:03<00:00, 236.11it/s]\n"
     ]
    },
    {
     "name": "stdout",
     "output_type": "stream",
     "text": [
      "Starting training epoch 4/5\n",
      "Learning rate: 0.0051066757961476545, Batch size: 64, Hidden dims: (128, 256), Kernel sizes: (5, 3), Activations: ('tanh', 'tanh')\n"
     ]
    },
    {
     "name": "stderr",
     "output_type": "stream",
     "text": [
      "100%|██████████| 57516/57516 [04:05<00:00, 234.36it/s]\n"
     ]
    },
    {
     "name": "stdout",
     "output_type": "stream",
     "text": [
      "Starting training epoch 5/5\n",
      "Learning rate: 0.0051066757961476545, Batch size: 64, Hidden dims: (128, 256), Kernel sizes: (5, 3), Activations: ('tanh', 'tanh')\n"
     ]
    },
    {
     "name": "stderr",
     "output_type": "stream",
     "text": [
      "100%|██████████| 57516/57516 [04:04<00:00, 235.58it/s]\n",
      "[I 2025-06-07 20:22:23,119] Trial 8 finished with value: 0.05528274178504944 and parameters: {'hidden_dims': '128,256', 'kernel_sizes': '5,3', 'activations': 'tanh,tanh', 'lr': 0.0051066757961476545, 'batch_size': 64}. Best is trial 2 with value: 0.01977844163775444.\n"
     ]
    },
    {
     "name": "stdout",
     "output_type": "stream",
     "text": [
      "Starting training epoch 1/5\n",
      "Learning rate: 0.00025219059992236825, Batch size: 16, Hidden dims: (32, 32), Kernel sizes: (3, 5), Activations: ('relu', 'tanh')\n"
     ]
    },
    {
     "name": "stderr",
     "output_type": "stream",
     "text": [
      "100%|██████████| 230062/230062 [11:27<00:00, 334.40it/s]\n"
     ]
    },
    {
     "name": "stdout",
     "output_type": "stream",
     "text": [
      "Starting training epoch 2/5\n",
      "Learning rate: 0.00025219059992236825, Batch size: 16, Hidden dims: (32, 32), Kernel sizes: (3, 5), Activations: ('relu', 'tanh')\n"
     ]
    },
    {
     "name": "stderr",
     "output_type": "stream",
     "text": [
      "100%|██████████| 230062/230062 [11:21<00:00, 337.52it/s]\n"
     ]
    },
    {
     "name": "stdout",
     "output_type": "stream",
     "text": [
      "Starting training epoch 3/5\n",
      "Learning rate: 0.00025219059992236825, Batch size: 16, Hidden dims: (32, 32), Kernel sizes: (3, 5), Activations: ('relu', 'tanh')\n"
     ]
    },
    {
     "name": "stderr",
     "output_type": "stream",
     "text": [
      "100%|██████████| 230062/230062 [11:15<00:00, 340.51it/s]\n"
     ]
    },
    {
     "name": "stdout",
     "output_type": "stream",
     "text": [
      "Starting training epoch 4/5\n",
      "Learning rate: 0.00025219059992236825, Batch size: 16, Hidden dims: (32, 32), Kernel sizes: (3, 5), Activations: ('relu', 'tanh')\n"
     ]
    },
    {
     "name": "stderr",
     "output_type": "stream",
     "text": [
      "100%|██████████| 230062/230062 [11:27<00:00, 334.41it/s]\n"
     ]
    },
    {
     "name": "stdout",
     "output_type": "stream",
     "text": [
      "Starting training epoch 5/5\n",
      "Learning rate: 0.00025219059992236825, Batch size: 16, Hidden dims: (32, 32), Kernel sizes: (3, 5), Activations: ('relu', 'tanh')\n"
     ]
    },
    {
     "name": "stderr",
     "output_type": "stream",
     "text": [
      "100%|██████████| 230062/230062 [11:22<00:00, 336.97it/s]\n",
      "[I 2025-06-07 21:19:19,256] Trial 9 finished with value: 0.05603211745619774 and parameters: {'hidden_dims': '32,32', 'kernel_sizes': '3,5', 'activations': 'relu,tanh', 'lr': 0.00025219059992236825, 'batch_size': 16}. Best is trial 2 with value: 0.01977844163775444.\n"
     ]
    },
    {
     "name": "stdout",
     "output_type": "stream",
     "text": [
      "Starting training epoch 1/5\n",
      "Learning rate: 0.002507800985448251, Batch size: 32, Hidden dims: (32, 64), Kernel sizes: (5, 5), Activations: ('leaky_relu', 'relu')\n"
     ]
    },
    {
     "name": "stderr",
     "output_type": "stream",
     "text": [
      "100%|██████████| 115031/115031 [06:48<00:00, 281.43it/s]\n"
     ]
    },
    {
     "name": "stdout",
     "output_type": "stream",
     "text": [
      "Starting training epoch 2/5\n",
      "Learning rate: 0.002507800985448251, Batch size: 32, Hidden dims: (32, 64), Kernel sizes: (5, 5), Activations: ('leaky_relu', 'relu')\n"
     ]
    },
    {
     "name": "stderr",
     "output_type": "stream",
     "text": [
      "100%|██████████| 115031/115031 [06:22<00:00, 300.43it/s]\n"
     ]
    },
    {
     "name": "stdout",
     "output_type": "stream",
     "text": [
      "Starting training epoch 3/5\n",
      "Learning rate: 0.002507800985448251, Batch size: 32, Hidden dims: (32, 64), Kernel sizes: (5, 5), Activations: ('leaky_relu', 'relu')\n"
     ]
    },
    {
     "name": "stderr",
     "output_type": "stream",
     "text": [
      "100%|██████████| 115031/115031 [06:25<00:00, 298.52it/s]\n"
     ]
    },
    {
     "name": "stdout",
     "output_type": "stream",
     "text": [
      "Starting training epoch 4/5\n",
      "Learning rate: 0.002507800985448251, Batch size: 32, Hidden dims: (32, 64), Kernel sizes: (5, 5), Activations: ('leaky_relu', 'relu')\n"
     ]
    },
    {
     "name": "stderr",
     "output_type": "stream",
     "text": [
      "100%|██████████| 115031/115031 [06:27<00:00, 296.65it/s]\n"
     ]
    },
    {
     "name": "stdout",
     "output_type": "stream",
     "text": [
      "Starting training epoch 5/5\n",
      "Learning rate: 0.002507800985448251, Batch size: 32, Hidden dims: (32, 64), Kernel sizes: (5, 5), Activations: ('leaky_relu', 'relu')\n"
     ]
    },
    {
     "name": "stderr",
     "output_type": "stream",
     "text": [
      "100%|██████████| 115031/115031 [06:21<00:00, 301.76it/s]\n",
      "[I 2025-06-07 21:51:45,340] Trial 10 finished with value: 0.018964406102895737 and parameters: {'hidden_dims': '32,64', 'kernel_sizes': '5,5', 'activations': 'leaky_relu,relu', 'lr': 0.002507800985448251, 'batch_size': 32}. Best is trial 10 with value: 0.018964406102895737.\n"
     ]
    },
    {
     "name": "stdout",
     "output_type": "stream",
     "text": [
      "Starting training epoch 1/5\n",
      "Learning rate: 0.0020100430089346503, Batch size: 32, Hidden dims: (32, 64), Kernel sizes: (5, 5), Activations: ('leaky_relu', 'relu')\n"
     ]
    },
    {
     "name": "stderr",
     "output_type": "stream",
     "text": [
      "100%|██████████| 115031/115031 [06:17<00:00, 304.62it/s]\n"
     ]
    },
    {
     "name": "stdout",
     "output_type": "stream",
     "text": [
      "Starting training epoch 2/5\n",
      "Learning rate: 0.0020100430089346503, Batch size: 32, Hidden dims: (32, 64), Kernel sizes: (5, 5), Activations: ('leaky_relu', 'relu')\n"
     ]
    },
    {
     "name": "stderr",
     "output_type": "stream",
     "text": [
      "100%|██████████| 115031/115031 [06:10<00:00, 310.20it/s]\n"
     ]
    },
    {
     "name": "stdout",
     "output_type": "stream",
     "text": [
      "Starting training epoch 3/5\n",
      "Learning rate: 0.0020100430089346503, Batch size: 32, Hidden dims: (32, 64), Kernel sizes: (5, 5), Activations: ('leaky_relu', 'relu')\n"
     ]
    },
    {
     "name": "stderr",
     "output_type": "stream",
     "text": [
      "100%|██████████| 115031/115031 [06:23<00:00, 299.90it/s]\n"
     ]
    },
    {
     "name": "stdout",
     "output_type": "stream",
     "text": [
      "Starting training epoch 4/5\n",
      "Learning rate: 0.0020100430089346503, Batch size: 32, Hidden dims: (32, 64), Kernel sizes: (5, 5), Activations: ('leaky_relu', 'relu')\n"
     ]
    },
    {
     "name": "stderr",
     "output_type": "stream",
     "text": [
      "100%|██████████| 115031/115031 [06:34<00:00, 291.71it/s]\n"
     ]
    },
    {
     "name": "stdout",
     "output_type": "stream",
     "text": [
      "Starting training epoch 5/5\n",
      "Learning rate: 0.0020100430089346503, Batch size: 32, Hidden dims: (32, 64), Kernel sizes: (5, 5), Activations: ('leaky_relu', 'relu')\n"
     ]
    },
    {
     "name": "stderr",
     "output_type": "stream",
     "text": [
      "100%|██████████| 115031/115031 [06:29<00:00, 295.62it/s]\n",
      "[I 2025-06-07 22:23:40,982] Trial 11 finished with value: 0.04812181740999222 and parameters: {'hidden_dims': '32,64', 'kernel_sizes': '5,5', 'activations': 'leaky_relu,relu', 'lr': 0.0020100430089346503, 'batch_size': 32}. Best is trial 10 with value: 0.018964406102895737.\n"
     ]
    },
    {
     "name": "stdout",
     "output_type": "stream",
     "text": [
      "Starting training epoch 1/5\n",
      "Learning rate: 0.007357680045044963, Batch size: 32, Hidden dims: (64, 64), Kernel sizes: (5, 5), Activations: ('leaky_relu', 'relu')\n"
     ]
    },
    {
     "name": "stderr",
     "output_type": "stream",
     "text": [
      "100%|██████████| 115031/115031 [06:39<00:00, 288.03it/s]\n"
     ]
    },
    {
     "name": "stdout",
     "output_type": "stream",
     "text": [
      "Starting training epoch 2/5\n",
      "Learning rate: 0.007357680045044963, Batch size: 32, Hidden dims: (64, 64), Kernel sizes: (5, 5), Activations: ('leaky_relu', 'relu')\n"
     ]
    },
    {
     "name": "stderr",
     "output_type": "stream",
     "text": [
      "100%|██████████| 115031/115031 [07:13<00:00, 265.61it/s]\n"
     ]
    },
    {
     "name": "stdout",
     "output_type": "stream",
     "text": [
      "Starting training epoch 3/5\n",
      "Learning rate: 0.007357680045044963, Batch size: 32, Hidden dims: (64, 64), Kernel sizes: (5, 5), Activations: ('leaky_relu', 'relu')\n"
     ]
    },
    {
     "name": "stderr",
     "output_type": "stream",
     "text": [
      "100%|██████████| 115031/115031 [06:48<00:00, 281.86it/s]\n"
     ]
    },
    {
     "name": "stdout",
     "output_type": "stream",
     "text": [
      "Starting training epoch 4/5\n",
      "Learning rate: 0.007357680045044963, Batch size: 32, Hidden dims: (64, 64), Kernel sizes: (5, 5), Activations: ('leaky_relu', 'relu')\n"
     ]
    },
    {
     "name": "stderr",
     "output_type": "stream",
     "text": [
      "100%|██████████| 115031/115031 [06:46<00:00, 282.66it/s]\n"
     ]
    },
    {
     "name": "stdout",
     "output_type": "stream",
     "text": [
      "Starting training epoch 5/5\n",
      "Learning rate: 0.007357680045044963, Batch size: 32, Hidden dims: (64, 64), Kernel sizes: (5, 5), Activations: ('leaky_relu', 'relu')\n"
     ]
    },
    {
     "name": "stderr",
     "output_type": "stream",
     "text": [
      "100%|██████████| 115031/115031 [06:29<00:00, 295.39it/s]\n",
      "[I 2025-06-07 22:57:38,099] Trial 12 finished with value: 0.0410582572221756 and parameters: {'hidden_dims': '64,64', 'kernel_sizes': '5,5', 'activations': 'leaky_relu,relu', 'lr': 0.007357680045044963, 'batch_size': 32}. Best is trial 10 with value: 0.018964406102895737.\n"
     ]
    },
    {
     "name": "stdout",
     "output_type": "stream",
     "text": [
      "Starting training epoch 1/5\n",
      "Learning rate: 0.0019586576989347065, Batch size: 32, Hidden dims: (128, 64), Kernel sizes: (5, 5), Activations: ('leaky_relu', 'sigmoid')\n"
     ]
    },
    {
     "name": "stderr",
     "output_type": "stream",
     "text": [
      "100%|██████████| 115031/115031 [06:42<00:00, 285.80it/s]\n"
     ]
    },
    {
     "name": "stdout",
     "output_type": "stream",
     "text": [
      "Starting training epoch 2/5\n",
      "Learning rate: 0.0019586576989347065, Batch size: 32, Hidden dims: (128, 64), Kernel sizes: (5, 5), Activations: ('leaky_relu', 'sigmoid')\n"
     ]
    },
    {
     "name": "stderr",
     "output_type": "stream",
     "text": [
      "100%|██████████| 115031/115031 [06:34<00:00, 291.38it/s]\n"
     ]
    },
    {
     "name": "stdout",
     "output_type": "stream",
     "text": [
      "Starting training epoch 3/5\n",
      "Learning rate: 0.0019586576989347065, Batch size: 32, Hidden dims: (128, 64), Kernel sizes: (5, 5), Activations: ('leaky_relu', 'sigmoid')\n"
     ]
    },
    {
     "name": "stderr",
     "output_type": "stream",
     "text": [
      "100%|██████████| 115031/115031 [06:39<00:00, 288.22it/s]\n"
     ]
    },
    {
     "name": "stdout",
     "output_type": "stream",
     "text": [
      "Starting training epoch 4/5\n",
      "Learning rate: 0.0019586576989347065, Batch size: 32, Hidden dims: (128, 64), Kernel sizes: (5, 5), Activations: ('leaky_relu', 'sigmoid')\n"
     ]
    },
    {
     "name": "stderr",
     "output_type": "stream",
     "text": [
      "100%|██████████| 115031/115031 [06:38<00:00, 288.51it/s]\n"
     ]
    },
    {
     "name": "stdout",
     "output_type": "stream",
     "text": [
      "Starting training epoch 5/5\n",
      "Learning rate: 0.0019586576989347065, Batch size: 32, Hidden dims: (128, 64), Kernel sizes: (5, 5), Activations: ('leaky_relu', 'sigmoid')\n"
     ]
    },
    {
     "name": "stderr",
     "output_type": "stream",
     "text": [
      "100%|██████████| 115031/115031 [06:44<00:00, 284.30it/s]\n",
      "[I 2025-06-07 23:30:57,959] Trial 13 finished with value: 0.04386946186423302 and parameters: {'hidden_dims': '128,64', 'kernel_sizes': '5,5', 'activations': 'leaky_relu,sigmoid', 'lr': 0.0019586576989347065, 'batch_size': 32}. Best is trial 10 with value: 0.018964406102895737.\n"
     ]
    },
    {
     "name": "stdout",
     "output_type": "stream",
     "text": [
      "Starting training epoch 1/5\n",
      "Learning rate: 0.0009403598328269836, Batch size: 16, Hidden dims: (32, 64), Kernel sizes: (5, 5), Activations: ('leaky_relu', 'leaky_relu')\n"
     ]
    },
    {
     "name": "stderr",
     "output_type": "stream",
     "text": [
      "100%|██████████| 230062/230062 [11:19<00:00, 338.49it/s]\n"
     ]
    },
    {
     "name": "stdout",
     "output_type": "stream",
     "text": [
      "Starting training epoch 2/5\n",
      "Learning rate: 0.0009403598328269836, Batch size: 16, Hidden dims: (32, 64), Kernel sizes: (5, 5), Activations: ('leaky_relu', 'leaky_relu')\n"
     ]
    },
    {
     "name": "stderr",
     "output_type": "stream",
     "text": [
      "100%|██████████| 230062/230062 [11:27<00:00, 334.41it/s]\n"
     ]
    },
    {
     "name": "stdout",
     "output_type": "stream",
     "text": [
      "Starting training epoch 3/5\n",
      "Learning rate: 0.0009403598328269836, Batch size: 16, Hidden dims: (32, 64), Kernel sizes: (5, 5), Activations: ('leaky_relu', 'leaky_relu')\n"
     ]
    },
    {
     "name": "stderr",
     "output_type": "stream",
     "text": [
      "100%|██████████| 230062/230062 [11:47<00:00, 325.03it/s]\n"
     ]
    },
    {
     "name": "stdout",
     "output_type": "stream",
     "text": [
      "Starting training epoch 4/5\n",
      "Learning rate: 0.0009403598328269836, Batch size: 16, Hidden dims: (32, 64), Kernel sizes: (5, 5), Activations: ('leaky_relu', 'leaky_relu')\n"
     ]
    },
    {
     "name": "stderr",
     "output_type": "stream",
     "text": [
      "100%|██████████| 230062/230062 [11:14<00:00, 341.14it/s]\n"
     ]
    },
    {
     "name": "stdout",
     "output_type": "stream",
     "text": [
      "Starting training epoch 5/5\n",
      "Learning rate: 0.0009403598328269836, Batch size: 16, Hidden dims: (32, 64), Kernel sizes: (5, 5), Activations: ('leaky_relu', 'leaky_relu')\n"
     ]
    },
    {
     "name": "stderr",
     "output_type": "stream",
     "text": [
      "100%|██████████| 230062/230062 [11:21<00:00, 337.46it/s]\n",
      "[I 2025-06-08 00:28:09,724] Trial 14 finished with value: 0.05211879685521126 and parameters: {'hidden_dims': '32,64', 'kernel_sizes': '5,5', 'activations': 'leaky_relu,leaky_relu', 'lr': 0.0009403598328269836, 'batch_size': 16}. Best is trial 10 with value: 0.018964406102895737.\n"
     ]
    },
    {
     "name": "stdout",
     "output_type": "stream",
     "text": [
      "Starting training epoch 1/5\n",
      "Learning rate: 0.003723748311551364, Batch size: 32, Hidden dims: (32, 256), Kernel sizes: (5, 5), Activations: ('tanh', 'leaky_relu')\n"
     ]
    },
    {
     "name": "stderr",
     "output_type": "stream",
     "text": [
      "100%|██████████| 115031/115031 [06:30<00:00, 294.90it/s]\n"
     ]
    },
    {
     "name": "stdout",
     "output_type": "stream",
     "text": [
      "Starting training epoch 2/5\n",
      "Learning rate: 0.003723748311551364, Batch size: 32, Hidden dims: (32, 256), Kernel sizes: (5, 5), Activations: ('tanh', 'leaky_relu')\n"
     ]
    },
    {
     "name": "stderr",
     "output_type": "stream",
     "text": [
      "100%|██████████| 115031/115031 [06:28<00:00, 295.72it/s]\n"
     ]
    },
    {
     "name": "stdout",
     "output_type": "stream",
     "text": [
      "Starting training epoch 3/5\n",
      "Learning rate: 0.003723748311551364, Batch size: 32, Hidden dims: (32, 256), Kernel sizes: (5, 5), Activations: ('tanh', 'leaky_relu')\n"
     ]
    },
    {
     "name": "stderr",
     "output_type": "stream",
     "text": [
      "100%|██████████| 115031/115031 [06:26<00:00, 297.99it/s]\n"
     ]
    },
    {
     "name": "stdout",
     "output_type": "stream",
     "text": [
      "Starting training epoch 4/5\n",
      "Learning rate: 0.003723748311551364, Batch size: 32, Hidden dims: (32, 256), Kernel sizes: (5, 5), Activations: ('tanh', 'leaky_relu')\n"
     ]
    },
    {
     "name": "stderr",
     "output_type": "stream",
     "text": [
      "100%|██████████| 115031/115031 [06:28<00:00, 295.78it/s]\n"
     ]
    },
    {
     "name": "stdout",
     "output_type": "stream",
     "text": [
      "Starting training epoch 5/5\n",
      "Learning rate: 0.003723748311551364, Batch size: 32, Hidden dims: (32, 256), Kernel sizes: (5, 5), Activations: ('tanh', 'leaky_relu')\n"
     ]
    },
    {
     "name": "stderr",
     "output_type": "stream",
     "text": [
      "100%|██████████| 115031/115031 [06:33<00:00, 292.45it/s]\n",
      "[I 2025-06-08 01:00:37,255] Trial 15 finished with value: 0.04080194979906082 and parameters: {'hidden_dims': '32,256', 'kernel_sizes': '5,5', 'activations': 'tanh,leaky_relu', 'lr': 0.003723748311551364, 'batch_size': 32}. Best is trial 10 with value: 0.018964406102895737.\n"
     ]
    },
    {
     "name": "stdout",
     "output_type": "stream",
     "text": [
      "Starting training epoch 1/5\n",
      "Learning rate: 0.00010818833247580927, Batch size: 16, Hidden dims: (64, 128), Kernel sizes: (5, 5), Activations: ('leaky_relu', 'relu')\n"
     ]
    },
    {
     "name": "stderr",
     "output_type": "stream",
     "text": [
      "100%|██████████| 230062/230062 [11:44<00:00, 326.35it/s]\n"
     ]
    },
    {
     "name": "stdout",
     "output_type": "stream",
     "text": [
      "Starting training epoch 2/5\n",
      "Learning rate: 0.00010818833247580927, Batch size: 16, Hidden dims: (64, 128), Kernel sizes: (5, 5), Activations: ('leaky_relu', 'relu')\n"
     ]
    },
    {
     "name": "stderr",
     "output_type": "stream",
     "text": [
      "100%|██████████| 230062/230062 [11:39<00:00, 328.70it/s]\n"
     ]
    },
    {
     "name": "stdout",
     "output_type": "stream",
     "text": [
      "Starting training epoch 3/5\n",
      "Learning rate: 0.00010818833247580927, Batch size: 16, Hidden dims: (64, 128), Kernel sizes: (5, 5), Activations: ('leaky_relu', 'relu')\n"
     ]
    },
    {
     "name": "stderr",
     "output_type": "stream",
     "text": [
      "100%|██████████| 230062/230062 [11:39<00:00, 329.02it/s]\n"
     ]
    },
    {
     "name": "stdout",
     "output_type": "stream",
     "text": [
      "Starting training epoch 4/5\n",
      "Learning rate: 0.00010818833247580927, Batch size: 16, Hidden dims: (64, 128), Kernel sizes: (5, 5), Activations: ('leaky_relu', 'relu')\n"
     ]
    },
    {
     "name": "stderr",
     "output_type": "stream",
     "text": [
      "100%|██████████| 230062/230062 [11:39<00:00, 328.69it/s]\n"
     ]
    },
    {
     "name": "stdout",
     "output_type": "stream",
     "text": [
      "Starting training epoch 5/5\n",
      "Learning rate: 0.00010818833247580927, Batch size: 16, Hidden dims: (64, 128), Kernel sizes: (5, 5), Activations: ('leaky_relu', 'relu')\n"
     ]
    },
    {
     "name": "stderr",
     "output_type": "stream",
     "text": [
      "100%|██████████| 230062/230062 [11:37<00:00, 329.81it/s]\n",
      "[I 2025-06-08 01:58:59,059] Trial 16 finished with value: 0.03839890658855438 and parameters: {'hidden_dims': '64,128', 'kernel_sizes': '5,5', 'activations': 'leaky_relu,relu', 'lr': 0.00010818833247580927, 'batch_size': 16}. Best is trial 10 with value: 0.018964406102895737.\n"
     ]
    },
    {
     "name": "stdout",
     "output_type": "stream",
     "text": [
      "Starting training epoch 1/5\n",
      "Learning rate: 0.001330430440181451, Batch size: 16, Hidden dims: (64, 128), Kernel sizes: (5, 5), Activations: ('tanh', 'relu')\n"
     ]
    },
    {
     "name": "stderr",
     "output_type": "stream",
     "text": [
      "100%|██████████| 230062/230062 [11:40<00:00, 328.21it/s]\n"
     ]
    },
    {
     "name": "stdout",
     "output_type": "stream",
     "text": [
      "Starting training epoch 2/5\n",
      "Learning rate: 0.001330430440181451, Batch size: 16, Hidden dims: (64, 128), Kernel sizes: (5, 5), Activations: ('tanh', 'relu')\n"
     ]
    },
    {
     "name": "stderr",
     "output_type": "stream",
     "text": [
      "100%|██████████| 230062/230062 [11:40<00:00, 328.26it/s]\n"
     ]
    },
    {
     "name": "stdout",
     "output_type": "stream",
     "text": [
      "Starting training epoch 3/5\n",
      "Learning rate: 0.001330430440181451, Batch size: 16, Hidden dims: (64, 128), Kernel sizes: (5, 5), Activations: ('tanh', 'relu')\n"
     ]
    },
    {
     "name": "stderr",
     "output_type": "stream",
     "text": [
      "100%|██████████| 230062/230062 [11:41<00:00, 328.07it/s]\n"
     ]
    },
    {
     "name": "stdout",
     "output_type": "stream",
     "text": [
      "Starting training epoch 4/5\n",
      "Learning rate: 0.001330430440181451, Batch size: 16, Hidden dims: (64, 128), Kernel sizes: (5, 5), Activations: ('tanh', 'relu')\n"
     ]
    },
    {
     "name": "stderr",
     "output_type": "stream",
     "text": [
      "100%|██████████| 230062/230062 [11:36<00:00, 330.28it/s]\n"
     ]
    },
    {
     "name": "stdout",
     "output_type": "stream",
     "text": [
      "Starting training epoch 5/5\n",
      "Learning rate: 0.001330430440181451, Batch size: 16, Hidden dims: (64, 128), Kernel sizes: (5, 5), Activations: ('tanh', 'relu')\n"
     ]
    },
    {
     "name": "stderr",
     "output_type": "stream",
     "text": [
      "100%|██████████| 230062/230062 [11:36<00:00, 330.48it/s]\n",
      "[I 2025-06-08 02:57:15,044] Trial 17 finished with value: 0.02493678405880928 and parameters: {'hidden_dims': '64,128', 'kernel_sizes': '5,5', 'activations': 'tanh,relu', 'lr': 0.001330430440181451, 'batch_size': 16}. Best is trial 10 with value: 0.018964406102895737.\n"
     ]
    },
    {
     "name": "stdout",
     "output_type": "stream",
     "text": [
      "Starting training epoch 1/5\n",
      "Learning rate: 0.0030610938269223786, Batch size: 32, Hidden dims: (32, 128), Kernel sizes: (5, 5), Activations: ('sigmoid', 'leaky_relu')\n"
     ]
    },
    {
     "name": "stderr",
     "output_type": "stream",
     "text": [
      "100%|██████████| 115031/115031 [06:28<00:00, 295.96it/s]\n"
     ]
    },
    {
     "name": "stdout",
     "output_type": "stream",
     "text": [
      "Starting training epoch 2/5\n",
      "Learning rate: 0.0030610938269223786, Batch size: 32, Hidden dims: (32, 128), Kernel sizes: (5, 5), Activations: ('sigmoid', 'leaky_relu')\n"
     ]
    },
    {
     "name": "stderr",
     "output_type": "stream",
     "text": [
      "100%|██████████| 115031/115031 [06:26<00:00, 297.49it/s]\n"
     ]
    },
    {
     "name": "stdout",
     "output_type": "stream",
     "text": [
      "Starting training epoch 3/5\n",
      "Learning rate: 0.0030610938269223786, Batch size: 32, Hidden dims: (32, 128), Kernel sizes: (5, 5), Activations: ('sigmoid', 'leaky_relu')\n"
     ]
    },
    {
     "name": "stderr",
     "output_type": "stream",
     "text": [
      "100%|██████████| 115031/115031 [06:28<00:00, 296.33it/s]\n"
     ]
    },
    {
     "name": "stdout",
     "output_type": "stream",
     "text": [
      "Starting training epoch 4/5\n",
      "Learning rate: 0.0030610938269223786, Batch size: 32, Hidden dims: (32, 128), Kernel sizes: (5, 5), Activations: ('sigmoid', 'leaky_relu')\n"
     ]
    },
    {
     "name": "stderr",
     "output_type": "stream",
     "text": [
      "100%|██████████| 115031/115031 [06:32<00:00, 292.71it/s]\n"
     ]
    },
    {
     "name": "stdout",
     "output_type": "stream",
     "text": [
      "Starting training epoch 5/5\n",
      "Learning rate: 0.0030610938269223786, Batch size: 32, Hidden dims: (32, 128), Kernel sizes: (5, 5), Activations: ('sigmoid', 'leaky_relu')\n"
     ]
    },
    {
     "name": "stderr",
     "output_type": "stream",
     "text": [
      "100%|██████████| 115031/115031 [06:28<00:00, 296.03it/s]\n",
      "[I 2025-06-08 03:29:40,326] Trial 18 finished with value: 0.02745898813009262 and parameters: {'hidden_dims': '32,128', 'kernel_sizes': '5,5', 'activations': 'sigmoid,leaky_relu', 'lr': 0.0030610938269223786, 'batch_size': 32}. Best is trial 10 with value: 0.018964406102895737.\n"
     ]
    },
    {
     "name": "stdout",
     "output_type": "stream",
     "text": [
      "Starting training epoch 1/5\n",
      "Learning rate: 0.0008911494812012466, Batch size: 32, Hidden dims: (64, 128), Kernel sizes: (3, 5), Activations: ('relu', 'sigmoid')\n"
     ]
    },
    {
     "name": "stderr",
     "output_type": "stream",
     "text": [
      "100%|██████████| 115031/115031 [06:35<00:00, 290.67it/s]\n"
     ]
    },
    {
     "name": "stdout",
     "output_type": "stream",
     "text": [
      "Starting training epoch 2/5\n",
      "Learning rate: 0.0008911494812012466, Batch size: 32, Hidden dims: (64, 128), Kernel sizes: (3, 5), Activations: ('relu', 'sigmoid')\n"
     ]
    },
    {
     "name": "stderr",
     "output_type": "stream",
     "text": [
      "100%|██████████| 115031/115031 [06:43<00:00, 285.41it/s]\n"
     ]
    },
    {
     "name": "stdout",
     "output_type": "stream",
     "text": [
      "Starting training epoch 3/5\n",
      "Learning rate: 0.0008911494812012466, Batch size: 32, Hidden dims: (64, 128), Kernel sizes: (3, 5), Activations: ('relu', 'sigmoid')\n"
     ]
    },
    {
     "name": "stderr",
     "output_type": "stream",
     "text": [
      "100%|██████████| 115031/115031 [06:40<00:00, 287.30it/s]\n"
     ]
    },
    {
     "name": "stdout",
     "output_type": "stream",
     "text": [
      "Starting training epoch 4/5\n",
      "Learning rate: 0.0008911494812012466, Batch size: 32, Hidden dims: (64, 128), Kernel sizes: (3, 5), Activations: ('relu', 'sigmoid')\n"
     ]
    },
    {
     "name": "stderr",
     "output_type": "stream",
     "text": [
      "100%|██████████| 115031/115031 [06:37<00:00, 289.17it/s]\n"
     ]
    },
    {
     "name": "stdout",
     "output_type": "stream",
     "text": [
      "Starting training epoch 5/5\n",
      "Learning rate: 0.0008911494812012466, Batch size: 32, Hidden dims: (64, 128), Kernel sizes: (3, 5), Activations: ('relu', 'sigmoid')\n"
     ]
    },
    {
     "name": "stderr",
     "output_type": "stream",
     "text": [
      "100%|██████████| 115031/115031 [06:40<00:00, 287.41it/s]\n",
      "[I 2025-06-08 04:02:57,694] Trial 19 finished with value: 0.03344499692320824 and parameters: {'hidden_dims': '64,128', 'kernel_sizes': '3,5', 'activations': 'relu,sigmoid', 'lr': 0.0008911494812012466, 'batch_size': 32}. Best is trial 10 with value: 0.018964406102895737.\n"
     ]
    },
    {
     "name": "stdout",
     "output_type": "stream",
     "text": [
      "Best params: {'hidden_dims': '32,64', 'kernel_sizes': '5,5', 'activations': 'leaky_relu,relu', 'lr': 0.002507800985448251, 'batch_size': 32}\n"
     ]
    },
    {
     "ename": "KeyError",
     "evalue": "'l'",
     "output_type": "error",
     "traceback": [
      "\u001b[31m---------------------------------------------------------------------------\u001b[39m",
      "\u001b[31mKeyError\u001b[39m                                  Traceback (most recent call last)",
      "\u001b[36mCell\u001b[39m\u001b[36m \u001b[39m\u001b[32mIn[7]\u001b[39m\u001b[32m, line 28\u001b[39m\n\u001b[32m     17\u001b[39m activations_map = {\n\u001b[32m     18\u001b[39m     \u001b[33m'\u001b[39m\u001b[33mrelu\u001b[39m\u001b[33m'\u001b[39m: torch.nn.ReLU(),\n\u001b[32m     19\u001b[39m     \u001b[33m'\u001b[39m\u001b[33mtanh\u001b[39m\u001b[33m'\u001b[39m: torch.nn.Tanh(),\n\u001b[32m   (...)\u001b[39m\u001b[32m     25\u001b[39m     \u001b[33m'\u001b[39m\u001b[33mnone\u001b[39m\u001b[33m'\u001b[39m: nn.Identity()\n\u001b[32m     26\u001b[39m }\n\u001b[32m     27\u001b[39m \u001b[38;5;66;03m# Prepare activations\u001b[39;00m\n\u001b[32m---> \u001b[39m\u001b[32m28\u001b[39m activations = [\u001b[43mactivations_map\u001b[49m\u001b[43m[\u001b[49m\u001b[43mact\u001b[49m\u001b[43m]\u001b[49m \u001b[38;5;28;01mfor\u001b[39;00m act \u001b[38;5;129;01min\u001b[39;00m best_params[\u001b[33m'\u001b[39m\u001b[33mactivations\u001b[39m\u001b[33m'\u001b[39m]]\n\u001b[32m     30\u001b[39m \u001b[38;5;66;03m# Build and train the best model on the full training set\u001b[39;00m\n\u001b[32m     31\u001b[39m sample_input, sample_target = dataset[\u001b[32m0\u001b[39m]\n",
      "\u001b[31mKeyError\u001b[39m: 'l'"
     ]
    }
   ],
   "source": [
    "import optuna\n",
    "import warnings\n",
    "warnings.filterwarnings(\"ignore\")\n",
    "# Run Optuna hyperparameter search\n",
    "study = optuna.create_study(\n",
    "    study_name=\"CNN_Sequence_Optimization_2\",\n",
    "    storage=\"sqlite:///optuna_study.db\",\n",
    "    load_if_exists=True,\n",
    "    direction=\"minimize\",\n",
    ")\n",
    "\n",
    "study.optimize(objective, n_trials=20)\n",
    "\n",
    "# Get the best config\n",
    "best_params = study.best_params\n",
    "print(f\"Best params: {best_params}\")\n"
   ]
  },
  {
   "cell_type": "code",
   "execution_count": 8,
   "id": "f9680796",
   "metadata": {},
   "outputs": [
    {
     "ename": "AssertionError",
     "evalue": "hidden_dims and kernel_sizes must have the same length",
     "output_type": "error",
     "traceback": [
      "\u001b[31m---------------------------------------------------------------------------\u001b[39m",
      "\u001b[31mAssertionError\u001b[39m                            Traceback (most recent call last)",
      "\u001b[36mCell\u001b[39m\u001b[36m \u001b[39m\u001b[32mIn[8]\u001b[39m\u001b[32m, line 18\u001b[39m\n\u001b[32m     16\u001b[39m input_dim = sample_input.shape[-\u001b[32m1\u001b[39m]\n\u001b[32m     17\u001b[39m output_dim = sample_target.shape[-\u001b[32m1\u001b[39m]\n\u001b[32m---> \u001b[39m\u001b[32m18\u001b[39m best_model = \u001b[43mSequenceCNN\u001b[49m\u001b[43m(\u001b[49m\n\u001b[32m     19\u001b[39m \u001b[43m    \u001b[49m\u001b[43minput_dim\u001b[49m\u001b[43m=\u001b[49m\u001b[43minput_dim\u001b[49m\u001b[43m,\u001b[49m\n\u001b[32m     20\u001b[39m \u001b[43m    \u001b[49m\u001b[43mhidden_dims\u001b[49m\u001b[43m=\u001b[49m\u001b[38;5;28;43mlist\u001b[39;49m\u001b[43m(\u001b[49m\u001b[43mbest_params\u001b[49m\u001b[43m[\u001b[49m\u001b[33;43m'\u001b[39;49m\u001b[33;43mhidden_dims\u001b[39;49m\u001b[33;43m'\u001b[39;49m\u001b[43m]\u001b[49m\u001b[43m)\u001b[49m\u001b[43m,\u001b[49m\n\u001b[32m     21\u001b[39m \u001b[43m    \u001b[49m\u001b[43mkernel_sizes\u001b[49m\u001b[43m=\u001b[49m\u001b[38;5;28;43mlist\u001b[39;49m\u001b[43m(\u001b[49m\u001b[43mbest_params\u001b[49m\u001b[43m[\u001b[49m\u001b[33;43m'\u001b[39;49m\u001b[33;43mkernel_sizes\u001b[39;49m\u001b[33;43m'\u001b[39;49m\u001b[43m]\u001b[49m\u001b[43m)\u001b[49m\u001b[43m,\u001b[49m\n\u001b[32m     22\u001b[39m \u001b[43m    \u001b[49m\u001b[43moutput_dim\u001b[49m\u001b[43m=\u001b[49m\u001b[43moutput_dim\u001b[49m\u001b[43m,\u001b[49m\n\u001b[32m     23\u001b[39m \u001b[43m    \u001b[49m\u001b[43mactivations\u001b[49m\u001b[43m=\u001b[49m\u001b[43mactivations\u001b[49m\n\u001b[32m     24\u001b[39m \u001b[43m)\u001b[49m\n\u001b[32m     25\u001b[39m device = torch.device(\u001b[33m\"\u001b[39m\u001b[33mcuda\u001b[39m\u001b[33m\"\u001b[39m \u001b[38;5;28;01mif\u001b[39;00m torch.cuda.is_available() \u001b[38;5;28;01melse\u001b[39;00m \u001b[33m\"\u001b[39m\u001b[33mcpu\u001b[39m\u001b[33m\"\u001b[39m)\n\u001b[32m     26\u001b[39m best_model.to(device)\n",
      "\u001b[36mFile \u001b[39m\u001b[32mc:\\Users\\henri\\Documents\\Uni.lu\\Semester 6\\BSP6\\weather-chatbot\\forecasting_service_training\\CNN.py:17\u001b[39m, in \u001b[36mSequenceCNN.__init__\u001b[39m\u001b[34m(self, input_dim, hidden_dims, kernel_sizes, output_dim, activations)\u001b[39m\n\u001b[32m      8\u001b[39m \u001b[38;5;250m\u001b[39m\u001b[33;03m\"\"\"\u001b[39;00m\n\u001b[32m      9\u001b[39m \u001b[33;03mArgs:\u001b[39;00m\n\u001b[32m     10\u001b[39m \u001b[33;03m    input_dim (int): Number of input features.\u001b[39;00m\n\u001b[32m   (...)\u001b[39m\u001b[32m     14\u001b[39m \u001b[33;03m    activations (str or list of str): Activation function(s) for each layer.\u001b[39;00m\n\u001b[32m     15\u001b[39m \u001b[33;03m\"\"\"\u001b[39;00m\n\u001b[32m     16\u001b[39m \u001b[38;5;28msuper\u001b[39m(SequenceCNN, \u001b[38;5;28mself\u001b[39m).\u001b[34m__init__\u001b[39m()\n\u001b[32m---> \u001b[39m\u001b[32m17\u001b[39m \u001b[38;5;28;01massert\u001b[39;00m \u001b[38;5;28mlen\u001b[39m(hidden_dims) == \u001b[38;5;28mlen\u001b[39m(kernel_sizes), \u001b[33m\"\u001b[39m\u001b[33mhidden_dims and kernel_sizes must have the same length\u001b[39m\u001b[33m\"\u001b[39m\n\u001b[32m     19\u001b[39m \u001b[38;5;66;03m# Map string to activation function\u001b[39;00m\n\u001b[32m     20\u001b[39m activations_map = {\n\u001b[32m     21\u001b[39m     \u001b[33m'\u001b[39m\u001b[33mrelu\u001b[39m\u001b[33m'\u001b[39m: torch.nn.ReLU,\n\u001b[32m     22\u001b[39m     \u001b[33m'\u001b[39m\u001b[33mtanh\u001b[39m\u001b[33m'\u001b[39m: torch.nn.Tanh,\n\u001b[32m   (...)\u001b[39m\u001b[32m     28\u001b[39m     \u001b[33m'\u001b[39m\u001b[33mnone\u001b[39m\u001b[33m'\u001b[39m: nn.Identity\n\u001b[32m     29\u001b[39m }\n",
      "\u001b[31mAssertionError\u001b[39m: hidden_dims and kernel_sizes must have the same length"
     ]
    }
   ],
   "source": [
    "activations_map = {\n",
    "    'relu': torch.nn.ReLU(),\n",
    "    'tanh': torch.nn.Tanh(),\n",
    "    'sigmoid': torch.nn.Sigmoid(),\n",
    "    'leaky_relu': torch.nn.LeakyReLU(),\n",
    "    'elu': torch.nn.ELU(),\n",
    "    'gelu': torch.nn.GELU(),\n",
    "    'selu': torch.nn.SELU(),\n",
    "    'none': nn.Identity()\n",
    "}\n",
    "# Prepare activations\n",
    "activations = [activations_map[act] for act in best_params['activations'].split(',')]\n",
    "\n",
    "# Build and train the best model on the full training set\n",
    "sample_input, sample_target = dataset[0]\n",
    "input_dim = sample_input.shape[-1]\n",
    "output_dim = sample_target.shape[-1]\n",
    "best_model = SequenceCNN(\n",
    "    input_dim=input_dim,\n",
    "    hidden_dims=list(best_params['hidden_dims']),\n",
    "    kernel_sizes=list(best_params['kernel_sizes']),\n",
    "    output_dim=output_dim,\n",
    "    activations=activations\n",
    ")\n",
    "device = torch.device(\"cuda\" if torch.cuda.is_available() else \"cpu\")\n",
    "best_model.to(device)\n",
    "\n",
    "optimizer = optim.Adam(best_model.parameters(), lr=best_params['lr'])\n",
    "criterion = nn.MSELoss()\n",
    "\n",
    "# Use the full train_loader for training\n",
    "num_epochs = 5\n",
    "for epoch in range(num_epochs):\n",
    "    best_model.train()\n",
    "    for batch in train_loader:\n",
    "        inputs, targets = batch\n",
    "        inputs, targets = inputs.to(device), targets.to(device)\n",
    "        optimizer.zero_grad()\n",
    "        outputs = best_model(inputs)\n",
    "        loss = criterion(outputs, targets)\n",
    "        loss.backward()\n",
    "        optimizer.step()\n",
    "\n",
    "# Evaluate on the test set\n",
    "best_model.eval()\n",
    "test_loss = 0.0\n",
    "with torch.no_grad():\n",
    "    for inputs, targets in test_loader:\n",
    "        inputs, targets = inputs.to(device), targets.to(device)\n",
    "        outputs = best_model(inputs)\n",
    "        loss = criterion(outputs, targets)\n",
    "        test_loss += loss.item() * inputs.size(0)\n",
    "test_loss /= len(test_loader.dataset)\n",
    "print(f\"Test loss: {test_loss}\")\n"
   ]
  },
  {
   "cell_type": "code",
   "execution_count": null,
   "id": "91377463",
   "metadata": {},
   "outputs": [],
   "source": [
    "# Save the best model\n",
    "model_path = Path(\"best_cnn_model.pth\")\n",
    "torch.save(best_model.state_dict(), model_path)\n",
    "print(f\"Best model saved to {model_path}\")\n"
   ]
  }
 ],
 "metadata": {
  "kernelspec": {
   "display_name": "Python 3",
   "language": "python",
   "name": "python3"
  },
  "language_info": {
   "codemirror_mode": {
    "name": "ipython",
    "version": 3
   },
   "file_extension": ".py",
   "mimetype": "text/x-python",
   "name": "python",
   "nbconvert_exporter": "python",
   "pygments_lexer": "ipython3",
   "version": "3.13.2"
  }
 },
 "nbformat": 4,
 "nbformat_minor": 5
}
